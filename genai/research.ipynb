{
 "cells": [
  {
   "cell_type": "code",
   "execution_count": 27,
   "metadata": {},
   "outputs": [],
   "source": [
    "from langchain_core.prompts import ChatPromptTemplate\n",
    "from langchain_groq import ChatGroq\n",
    "from langsmith import traceable\n",
    "import os\n",
    "import PyPDF2\n",
    "from langchain.text_splitter import RecursiveCharacterTextSplitter\n",
    "from langchain_community.embeddings import HuggingFaceEmbeddings \n",
    "from langchain_community.vectorstores import FAISS\n",
    "from langchain.memory import ConversationBufferMemory\n",
    "from langchain.chains import ConversationalRetrievalChain\n",
    "from langchain.prompts import PromptTemplate"
   ]
  },
  {
   "cell_type": "code",
   "execution_count": 2,
   "metadata": {},
   "outputs": [],
   "source": [
    "\n",
    "# Define your variables\n",
    "variables = {\n",
    "    \"LANGCHAIN_TRACING_V2\": \"True\",\n",
    "    \"LANGCHAIN_ENDPOINT\": \"https://api.smith.langchain.com\",\n",
    "    \"LANGCHAIN_API_KEY\": \"ls__e70c98c314364c01999d3b06f1d6cea6\",\n",
    "    \"LANGCHAIN_PROJECT\": \"docbot_llama3\",\n",
    "    \"GROQ_API_KEY\": \"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\"\n",
    "}\n",
    "\n",
    "# Set each variable as an environment variable\n",
    "for key, value in variables.items():\n",
    "    os.environ[key] = value\n"
   ]
  },
  {
   "cell_type": "code",
   "execution_count": 3,
   "metadata": {},
   "outputs": [],
   "source": [
    "from langchain.callbacks.tracers import LangChainTracer\n",
    "\n",
    "tracer = LangChainTracer(project_name=\"docbot_llama3\")"
   ]
  },
  {
   "cell_type": "code",
   "execution_count": 4,
   "metadata": {},
   "outputs": [],
   "source": [
    "def pipeline(user_input: str):\n",
    "    chat = ChatGroq(temperature=0, model_name=\"llama3-8b-8192\")\n",
    "    prompt = ChatPromptTemplate.from_messages([(\"human\", \"Write a code for {user_input}\")])\n",
    "    chain = prompt | chat\n",
    "    return chain.invoke({\"user_input\": user_input})\n",
    "\n",
    "pd = pipeline(\"read a pdf using pypdf2 and split it into chunks\")"
   ]
  },
  {
   "cell_type": "code",
   "execution_count": 18,
   "metadata": {},
   "outputs": [],
   "source": [
    "from langchain_community.document_loaders import PyPDFLoader\n",
    "from langchain.text_splitter import CharacterTextSplitter\n",
    "\n",
    "loader = PyPDFLoader(\"../data/Adobe-CSR-Report-2022.pdf\")\n",
    "text_splitter = CharacterTextSplitter(chunk_size=400, chunk_overlap=0)\n",
    "pages = loader.load_and_split(text_splitter=text_splitter)\n"
   ]
  },
  {
   "cell_type": "code",
   "execution_count": 30,
   "metadata": {},
   "outputs": [],
   "source": [
    "def create_embeddings(docs,pdf_name):\n",
    "\n",
    "    embeddings = HuggingFaceEmbeddings()\n",
    "\n",
    "    vec_check = os.listdir('../doc_embedding_store')\n",
    "\n",
    "    if pdf_name in vec_check:\n",
    "\n",
    "            print(f'Embedding for document {pdf_name} already present in storage')\n",
    "\n",
    "            print(f'*******-----Using Saved Embeddings-------******')\n",
    "\n",
    "            vectorStore = FAISS.load_local(f'../doc_embedding_store/{pdf_name}', embeddings, \n",
    "                                           allow_dangerous_deserialization=True)\n",
    "\n",
    "    else:\n",
    "\n",
    "        print(f'*******-----Creating Embeddings-------******')\n",
    "\n",
    "        print(f'Embedding for document {pdf_name} not created in storage')\n",
    "\n",
    "        vectorStore = FAISS.from_documents(docs, embeddings)\n",
    "\n",
    "        vectorStore.save_local(f'../doc_embedding_store/{pdf_name}')\n",
    "\n",
    "    return vectorStore"
   ]
  },
  {
   "cell_type": "code",
   "execution_count": 31,
   "metadata": {},
   "outputs": [
    {
     "name": "stdout",
     "output_type": "stream",
     "text": [
      "Embedding for document Adobe already present in storage\n",
      "*******-----Using Saved Embeddings-------******\n"
     ]
    }
   ],
   "source": [
    "embed = create_embeddings(docs=pages,pdf_name=\"Adobe\")"
   ]
  },
  {
   "cell_type": "code",
   "execution_count": 47,
   "metadata": {},
   "outputs": [
    {
     "name": "stdout",
     "output_type": "stream",
     "text": [
      "Conversational Chain created for the LLM using the vector store\n"
     ]
    }
   ],
   "source": [
    "llmtemplate = \"\"\"[INST]\n",
    "As an AI, provide accurate and relevant information based on the provided document. Your responses should adhere to the following guidelines:\n",
    "- Answer the question based on the provided documents.\n",
    "- Be direct and factual, limited to 50 words and 2-3 sentences. Begin your response without using introductory phrases like yes, no etc.\n",
    "- Maintain an ethical and unbiased tone, avoiding harmful or offensive content.\n",
    "- If the document does not contain relevant information, state \"I cannot provide an answer based on the provided document.\"\n",
    "- Avoid using confirmatory phrases like \"Yes, you are correct\" or any similar validation in your responses.\n",
    "- Do not fabricate information or include questions in your responses.\n",
    "- do not prompt to select answers. do not ask me questions\n",
    "{question}\n",
    "[/INST]\n",
    "\"\"\"\n",
    "chat = ChatGroq(temperature=0, model_name=\"llama3-8b-8192\")\n",
    "retriever = embed.as_retriever()\n",
    "CONDENSE_QUESTION_PROMPT = PromptTemplate.from_template(llmtemplate)\n",
    "\n",
    "memory = ConversationBufferMemory(\n",
    "    memory_key='chat_history', return_messages=True, output_key='answer')\n",
    "\n",
    "conversation_chain = (ConversationalRetrievalChain.from_llm\n",
    "                        (llm=chat,\n",
    "                        retriever=retriever,\n",
    "                        # condense_question_prompt=CONDENSE_QUESTION_PROMPT,\n",
    "                        memory=memory,\n",
    "                        return_source_documents=True,verbose=True))\n",
    "print(\"Conversational Chain created for the LLM using the vector store\")\n"
   ]
  },
  {
   "cell_type": "code",
   "execution_count": null,
   "metadata": {},
   "outputs": [],
   "source": [
    "res = conversation_chain.invoke(\"What is the gross GHG emission?\")"
   ]
  },
  {
   "cell_type": "code",
   "execution_count": 49,
   "metadata": {},
   "outputs": [
    {
     "name": "stdout",
     "output_type": "stream",
     "text": [
      "According to the provided data, the gross CO2 emissions can be calculated as follows:\n",
      "\n",
      "Scope 1 GHG emissions: 6,568 tonnes CO2e (2022)\n",
      "Scope 2 GHG emissions (location-based): 57,168 tonnes CO2e (2022)\n",
      "Scope 3 GHG emissions: 463,438 tonnes CO2e (2022)\n",
      "\n",
      "Total gross CO2 emissions: 6,568 + 57,168 + 463,438 = 527,174 tonnes CO2e (2022)\n",
      "\n",
      "Note that this calculation only includes the Scope 1, Scope 2, and Scope 3 emissions reported in the provided data. The total gross CO2 emissions may be higher if other sources of emissions are not reported.\n"
     ]
    }
   ],
   "source": [
    "print(res[\"answer\"])"
   ]
  },
  {
   "cell_type": "code",
   "execution_count": 50,
   "metadata": {},
   "outputs": [
    {
     "name": "stdout",
     "output_type": "stream",
     "text": [
      "\n",
      "\n",
      "\u001b[1m> Entering new LLMChain chain...\u001b[0m\n",
      "Prompt after formatting:\n",
      "\u001b[32;1m\u001b[1;3mGiven the following conversation and a follow up question, rephrase the follow up question to be a standalone question, in its original language.\n",
      "\n",
      "Chat History:\n",
      "\n",
      "Human: What is the gross co2 emission?\n",
      "Assistant: According to the provided data, the gross CO2 emissions can be calculated as follows:\n",
      "\n",
      "Scope 1 GHG emissions: 6,568 tonnes CO2e (2022)\n",
      "Scope 2 GHG emissions (location-based): 57,168 tonnes CO2e (2022)\n",
      "Scope 3 GHG emissions: 463,438 tonnes CO2e (2022)\n",
      "\n",
      "Total gross CO2 emissions: 6,568 + 57,168 + 463,438 = 527,174 tonnes CO2e (2022)\n",
      "\n",
      "Note that this calculation only includes the Scope 1, Scope 2, and Scope 3 emissions reported in the provided data. The total gross CO2 emissions may be higher if other sources of emissions are not reported.\n",
      "Follow Up Input: What is the total Scope 1 emission?\n",
      "Standalone question:\u001b[0m\n",
      "\n",
      "\u001b[1m> Finished chain.\u001b[0m\n",
      "\n",
      "\n",
      "\u001b[1m> Entering new StuffDocumentsChain chain...\u001b[0m\n",
      "\n",
      "\n",
      "\u001b[1m> Entering new LLMChain chain...\u001b[0m\n",
      "Prompt after formatting:\n",
      "\u001b[32;1m\u001b[1;3mSystem: Use the following pieces of context to answer the user's question. \n",
      "If you don't know the answer, just say that you don't know, don't try to make up an answer.\n",
      "----------------\n",
      "Key ESG  \n",
      "Performance Indicators41\n",
      "2022 Adobe Corporate Social Responsibility Report\n",
      "REFERENCE INDICES KEY PERFORMANCE INDICATOR 2022 2021 2020\n",
      "Climate change & GHG emissions\n",
      "CDP Score A A- A\n",
      "GRI 305-1 Scope 1 GHG emissions [tonnes CO2e] 6,568 4,911 9,598\n",
      "Scope 1 GHG emissions from combustion of natural gas and diesel [tonnes CO2e] 4,815 3,469 7,534\n",
      "GRI 305-6 Scope 1 GHG emissions from ozone-depleting substances [tonnes CO2e] 427 299 1,191\n",
      "Scope 1 GHG emissions from mobile sources [tonnes CO2e] 1,326 1,143 873\n",
      "GRI 102-56 Verification status of reported Scope 1 emissions Third party verified Third party verified Third party verified \n",
      "GRI 305-2 Scope 2 GHG emissions, location-based [tonnes CO2e] 57,168 61,220 50,653\n",
      "Scope 2 GHG emissions, market-based [tonnes CO2e] 22,936 31,341 33,535\n",
      "GRI 102-56       Verification status of reported Scope 2 emissions Third party verified Third party verified Third party verified\n",
      "GRI 305-3 Scope 3 GHG emissions [tonnes CO2e] 463,438 424,343 393,465\n",
      "Category 1 GHG emissions, purchased goods & services [tonnes CO2e] 405,645 396,221 325,392\n",
      "Category 2 GHG emissions, capital goods [tonnes CO2e] 26,084 18,340 28,812\n",
      "Category 3 GHG emissions, FERA [tonnes CO2e] 6,227 7,323 12,692\n",
      "Category 4 GHG emissions, upstream transportation & distribution [tonnes CO2e] 66 6 682\n",
      "Category 6 GHG emissions, business travel [tonnes CO2e] 19,704 1,187 11,978\n",
      "Category 7 GHG emissions, employee commuting [tonnes CO2e] 5,711 1,267 13,908\n",
      "GRI 102-56 Verification status of reported Scope 3 emissions Third party verified Third party verified Third party verified\n",
      "GRI 305-5 Emissions reductions from energy efficiency projects [tonnes CO2e] 95 416 195\n",
      "GRI 305-4 Normalized carbon intensity [tonnes CO2e (Scope 1+2 market-based)/FTE] 1.0 1.4 1.9\n",
      "GRI 305-7 Nitrogen oxides (NOX), sulfur oxides (SOX), and other significant air emissions 0 0 0Environmental\n",
      "\n",
      "Key ESG  \n",
      "Performance Indicators42\n",
      "2022 Adobe Corporate Social Responsibility Report Environmental\n",
      "REFERENCE INDICES KEY PERFORMANCE INDICATOR 2022 2021 2020\n",
      "Renewables and energy efficiency\n",
      "GRI 302-1 Total energy consumption [MWh] 206,486 240,344 208,187\n",
      "SASB TC-SI-130a.1 Total energy consumption [GJ]1743,349 865,238 749,473\n",
      "SASB TC-SI-130a.1 % of total energy consumption that is grid electricity 88% 92% 78%\n",
      "SASB TC-SI-130a.1 % of total energy consumption that is renewable energy 54% 55% 38%\n",
      "% of total energy consumption that is renewable electricity 62% 59% 48%\n",
      "Global grid electricity purchased and consumed [MWh] 180,820 221,568 162,417\n",
      "% electricity purchased and consumed from managed colocated data centers 25% 44% 28%\n",
      "Global fuel purchased and consumed (natural gas and diesel/gas oil) [MWh} 31,598 23,405 45,770\n",
      "GRI 302-3 Energy intensity [MWh/FTE] 7.1 9.3 9.2\n",
      "G4-EN6 Renewable energy goal established 100% renewable electricity by 2025 100% renewable electricity by 2035 100% renewable electricity by 2035\n",
      "Sustainable workplaces & practices\n",
      "Total space worldwide (Sq. Ft.) 4,614,038 4,648,814 4,622,486\n",
      "% LEED/green-certified buildings [owned and leased] 85% 81% 77%\n",
      "% employees in LEED/green-certified workspaces 61% 66% 68%\n",
      "% of total owned and managed 56% 53% 54%\n",
      "% of total leased 44% 47% 46%\n",
      "% of total in U.S. 62% 63% 63%\n",
      "% of total in India 22% 21% 21%\n",
      "% of total in rest of world 17% 16% 16%\n",
      "Adobe workspace total energy use (does not include managed Colo energy) [MWh] 95,720 78,661 100,995\n",
      "GRI 302-3 Energy use intensity of Adobe workspaces (kWh/Square Foot) 20.7 16.9 21.9\n",
      "1 Our largest colocated data center provider changed their reporting methodology for electricity consumption in FY2022. The provider transitioned from an estimate-based approach to metered consumption.\n",
      "\n",
      "Key ESG  \n",
      "Performance Indicators43\n",
      "2022 Adobe Corporate Social Responsibility Report Environmental\n",
      "REFERENCE INDICES KEY PERFORMANCE INDICATOR 2022 2021 2020\n",
      "Data Centers\n",
      "Scope 2 location-based GHG emissions from Adobe owned data center in Hillsboro,  \n",
      "OR [metric tonnes CO2e]18,651 17,601 17,015\n",
      "Scope 2 market-based GHG emissions from Adobe owned data center in Hillsboro,  \n",
      "OR [metric tonnes CO2e]10,920 16,838 17,059\n",
      "Electricity purchased and consumed from Adobe owned data center in Hillsboro, OR [MWh] 64,395 64,266 58,305\n",
      "Scope 2 location-based GHG emissions from colocated data centers [metric tonnes CO2e] 12,718 23,415 13,763\n",
      "Scope 2 market-based GHG emissions from managed colocated data centers [  \n",
      "metric tonnes CO2e]5,903 5,642 3,903\n",
      "Electricity purchased and consumed from colocated data centers [MWh] 45,766 97,495 45,100\n",
      "SASB TC-SI-130a.3Description of integration of environmental considerations to strategic planning for data  \n",
      "center needsData Center Management\n",
      "Sustainable supply chain\n",
      "Supply chain standards Business Partner Code of Conduct\n",
      "Water use & management\n",
      "GRI 303-1, SASB TC-SI-130a.2 Total water consumption - U.S. & India owned and/or managed facilities [Cubic Meters] 282,744 210,464 260,154\n",
      "SASB TC-SI-130a.2 % of water recycled 6% 3% 4%\n",
      "SASB TC-SI-130a.2 % of water in regions with high or extremely high baseline water stress33%;  \n",
      "High Risk is 27%,  \n",
      "Extremely High Risk is 6%15%;  \n",
      "High Risk is 13%,  \n",
      "Extremely High Risk is 2%17%;  \n",
      "High Risk is 13%,  \n",
      "Extremely High Risk is 4%\n",
      "\n",
      "Key ESG  \n",
      "Performance Indicators44\n",
      "2022 Adobe Corporate Social Responsibility Report Environmental\n",
      "REFERENCE INDICES KEY PERFORMANCE INDICATOR 2022 2021 2020\n",
      "Waste management\n",
      "GRI-306-1 Waste generation and significant waste-related impactsAs Adobe produces digital products that do not contribute to the physical waste stream, waste metrics \n",
      "reported here represent our operational waste from Adobe-owned buildings and buildings where we  \n",
      "hold a long-term lease. \n",
      "GRI 306-2 Waste diverted from global owned and/or managed facilities [short tons] 1,761 1,082 1,711\n",
      "GRI 306-2 Waste Diversion Rate (% of total) 88% 91% 89%\n",
      "GRI 306-3 Total waste generated (metric tons) 1,992 1,189 803\n",
      "Total waste diverted (metric tons) 1,761 1,082 711\n",
      "Total waste recycled (metric tons) 864 566 258\n",
      "Total waste composted (metric tons) 896 517 453\n",
      "Total waste landfilled (metric tons) 231 106 92\n",
      "Environmental fines, penalties and settlements\n",
      "GRI 307-1 Environmental fines, penalties and settlements $0 $0 $0\n",
      "Human: What is the Scope 1 GHG emission?\u001b[0m\n",
      "\n",
      "\u001b[1m> Finished chain.\u001b[0m\n",
      "\n",
      "\u001b[1m> Finished chain.\u001b[0m\n"
     ]
    }
   ],
   "source": [
    "res = conversation_chain.invoke(\"What is the total Scope 1 emission?\")"
   ]
  },
  {
   "cell_type": "code",
   "execution_count": 51,
   "metadata": {},
   "outputs": [
    {
     "name": "stdout",
     "output_type": "stream",
     "text": [
      "According to the provided data, the Scope 1 GHG emissions from Adobe's Corporate Social Responsibility Report are:\n",
      "\n",
      "* 2022: 4,815 tonnes CO2e\n",
      "* 2021: 3,469 tonnes CO2e\n",
      "* 2020: 7,534 tonnes CO2e\n",
      "\n",
      "These emissions are from the combustion of natural gas and diesel.\n"
     ]
    }
   ],
   "source": [
    "print(res[\"answer\"])"
   ]
  },
  {
   "cell_type": "code",
   "execution_count": 53,
   "metadata": {},
   "outputs": [
    {
     "name": "stdout",
     "output_type": "stream",
     "text": [
      "[HumanMessage(content='What is the gross co2 emission?'), AIMessage(content='According to the provided data, the gross CO2 emissions can be calculated as follows:\\n\\nScope 1 GHG emissions: 6,568 tonnes CO2e (2022)\\nScope 2 GHG emissions (location-based): 57,168 tonnes CO2e (2022)\\nScope 3 GHG emissions: 463,438 tonnes CO2e (2022)\\n\\nTotal gross CO2 emissions: 6,568 + 57,168 + 463,438 = 527,174 tonnes CO2e (2022)\\n\\nNote that this calculation only includes the Scope 1, Scope 2, and Scope 3 emissions reported in the provided data. The total gross CO2 emissions may be higher if other sources of emissions are not reported.'), HumanMessage(content='What is the total Scope 1 emission?'), AIMessage(content=\"According to the provided data, the Scope 1 GHG emissions from Adobe's Corporate Social Responsibility Report are:\\n\\n* 2022: 4,815 tonnes CO2e\\n* 2021: 3,469 tonnes CO2e\\n* 2020: 7,534 tonnes CO2e\\n\\nThese emissions are from the combustion of natural gas and diesel.\")]\n"
     ]
    }
   ],
   "source": [
    "print(res['chat_history'])"
   ]
  },
  {
   "cell_type": "code",
   "execution_count": null,
   "metadata": {},
   "outputs": [],
   "source": [
    "\n",
    "\n",
    "def prepare_docs(pdf_docs):\n",
    "    docs = []\n",
    "    metadata = []\n",
    "    content = []\n",
    "\n",
    "    \n",
    "    pdf_reader = PyPDF2.PdfReader(pdf_docs)\n",
    "    for index, text in enumerate(pdf_reader.pages):\n",
    "        doc_page = {'title': pdf_docs + \" page \" + str(index + 1),\n",
    "                    'content': pdf_reader.pages[index].extract_text()}\n",
    "        docs.append(doc_page)\n",
    "    for doc in docs:\n",
    "        content.append(doc[\"content\"])\n",
    "        metadata.append({\n",
    "            \"title\": doc[\"title\"]\n",
    "        })\n",
    "    return content, metadata\n",
    "\n",
    "\n",
    "def get_text_chunks(content, metadata):\n",
    "    text_splitter = RecursiveCharacterTextSplitter.from_tiktoken_encoder(\n",
    "        chunk_size=512,\n",
    "        chunk_overlap=256,\n",
    "    )\n",
    "    split_docs = text_splitter.create_documents(content, metadatas=metadata)\n",
    "    print(f\"Split documents into {len(split_docs)} passages\")\n",
    "    return split_docs\n",
    "\n",
    "\n",
    "def ingest_into_vectordb(split_docs):\n",
    "    embeddings = HuggingFaceEmbeddings(model_name='sentence-transformers/all-MiniLM-L6-v2', model_kwargs={'device': 'cpu'})\n",
    "    db = FAISS.from_documents(split_docs, embeddings)\n",
    "\n",
    "    DB_FAISS_PATH = 'vectorstore/db_faiss'\n",
    "    db.save_local(DB_FAISS_PATH)\n",
    "    return db\n",
    "\n",
    "\n",
    "def get_conversation_chain(vectordb):\n",
    "    chat = ChatGroq(temperature=0, model_name=\"llama3-8b-8192\")\n",
    "    retriever = vectordb.as_retriever()\n",
    "    CONDENSE_QUESTION_PROMPT = PromptTemplate.from_template(llmtemplate)\n",
    "\n",
    "    memory = ConversationBufferMemory(\n",
    "        memory_key='chat_history', return_messages=True, output_key='answer')\n",
    "\n",
    "    conversation_chain = (ConversationalRetrievalChain.from_llm\n",
    "                          (llm=chat,\n",
    "                           retriever=retriever,\n",
    "                           #condense_question_prompt=CONDENSE_QUESTION_PROMPT,\n",
    "                           memory=memory,\n",
    "                           return_source_documents=True))\n",
    "    print(\"Conversational Chain created for the LLM using the vector store\")\n",
    "    return conversation_chain\n",
    "\n",
    "\n"
   ]
  },
  {
   "cell_type": "code",
   "execution_count": null,
   "metadata": {},
   "outputs": [],
   "source": [
    "pdf_reader = PyPDF2.PdfReader(stream=\"../data/Adobe-CSR-Report-2022.pdf\")"
   ]
  },
  {
   "cell_type": "code",
   "execution_count": null,
   "metadata": {},
   "outputs": [
    {
     "data": {
      "text/plain": [
       "([' Adobe Corporate   \\nSocial Responsibility  \\nReport 2022 \\nArtwork by  Yulia Vus  ',\n",
       "  '2 \\n2022 Adobe Corporate Social Responsibility Report\\n \\n \\n \\n \\n \\n \\n \\n \\n \\n \\n \\n \\n \\n \\n \\n \\n  \\n \\n \\n \\n \\n \\n \\n \\n  \\n \\n \\n \\n \\n \\n \\n \\n A Message From Our CEO \\nAdobe was founded on simple yet enduring principles that remain with us to this day:  \\nInnovation is at our core, employees are our greatest asset, and our customers,  \\ncommunities and stakeholders are central to our success.  \\nAs digital continues to rapidly reshape how we work, learn and \\nplay, Adobe’s products are fueling the digital economy and empowering everyone, everywhere to imagine, create and deliver any digital experience. Purpose has been core to the company’s DNA from its earliest days. Tere are three key areas in which we are uniquely positioned and motivated to make a diference: Adobe for All, Creativity for All and Technology to Transform. \\nAdobe for All \\nAdobe’s purpose starts with our commitment to create a work -\\nplace and community that refects the diversity of the world around us, where everyone feels included and respected and has the opportunity to make an impact. Greater representation leads to a virtuous cycle of more role models, advancement, growth and meaningful innovations for our customers and communities. We are proud of our progress in increasing women in Director+ roles globally by 50% and our Black community in the U.S. by 63% over the past two years. We are sponsoring the success of underrepresented minorities in technology careers at Adobe through initiatives such as the McKinsey Connected Leaders Academy in the U.S., Women in Tech Forum career coaching program in EMEA and Women Emerging Leaders Program in APAC . E\\nxternally, we are investing in building a talent pipeline \\nthrough strategic collaborations with historically Black colleges and universities and Hispanic-serving institutions, such as Bowie State University, San José State University and Winston-Salem State University. Our innovative SheSparks internship program across our India sites enables women to successfully transition back to full-time work afer a career break, securing program management and technical roles at Adobe. \\nCreativity for All \\nAs the creativity company, we are uniquely commited to advanc -\\ning Creativity for All: empowering millions of creators of all ages and backgrounds to access the tools, skills and platforms they need to express themselves, reach their full potential and share their diverse perspectives. From supporting emerging flmmakers through the Sundance Adobe Fellowship, to the hundreds of creators we’ve aided fnancially through our Creative Residency Community Fund, to our Diverse Voices platform that elevates creators from a spectrum of disciplines, we are helping people around the world tell their stories on a larger scale. We’re sup -\\n',\n",
       "  '3 \\n2022 Adobe Corporate Social Responsibility Report\\n \\n \\n \\n \\n \\n \\n  \\n \\n \\n \\n \\n \\n \\n \\n \\n \\n \\n \\n \\n \\n  \\n \\n \\n \\n \\n \\n \\n \\n \\n \\n \\n  \\n  \\n \\n \\n \\n \\n A Message From Our CEO \\nporting digital literacy and creativity in the classroom by   \\nputing Adobe Express in the hands of over 40 million K-12  \\nstudents globally, and we are engaging with college students  \\nacross more than 50 designated Adobe Creative Campuses   \\nto help the next generation build the skills they need to   \\ncompete in the digital age. \\nTechnology to Transform \\nAs one of the world’s most innovative sofware companies \\ntouching the lives of billions of people, we are commited to advancing the responsible use of technology to build trust with our customers and communities. Our innovations are making a signifcant impact across AI Ethics, security, privacy, trust and transparency, accessibility and sustainability. We are building on our decades of AI leadership and extending our people-centered approach to generative AI to continue to enhance — rather than replace — human endeavor. All new AI features and innovations are developed in accordance with Adobe’s AI ethics principles of accountability, responsibility and transparency. Te Content Authenticity Initiative, which we lead, now counts over 1,000 partners across sofware, hardware, media, NGOs and education, all commited to combating misinformation and providing atri -\\nbution for creators. Last year, we launched Adobe Express for Nonprofts to help the over 10 million nonprofts around the world engage donors and drive greater impact. Adobe is commited to sustainability and climate action through our products and operations. Our cloud-based products are signifcantly reducing paper-based waste by accelerating the paper-to-digital transformation and enabling digital collaboration that reduces physical waste and emissions. Estimates show that paper-to-digital workfows powered by Document Cloud elimi -\\nnate over 2.5 billion pounds of greenhouse gas per year in the U.S. alone. Our Substance 3D tools allow campaigns to be de -\\nsigned and shot virtually, eliminating the environmental cost of materials, manufacturing and travel. We continue our focus on renewable energy across our sites, including opening our Found -\\ners Tower in San Jose in January 2023 — which is the frst all-electric building of its scale powered by 100% renewable energy in Silicon Valley. \\nOur employees around the world bring our mission to life, \\nworking together to create change in the communities where we live and work. Tey are at the center of our philanthropic approach, ofering their time, donations and talents to make the largest collective impact. In calendar year 2022, we invested over $113M in cash and in-kind in our communities, with employees completing over 150,000 hours of volunteer time, supporting over 89,000 organizations worldwide. Over the past four decades, Adobe has embraced invention and reinv en\\ntion to beter serve our customers and communities and \\ndeliver the best of Adobe to our stakeholders. Tis sense of purpose has guided our evolution and continues to inspire our employees to invent the future and change the world for the beter. Our groundbreaking technology, strong brand and excep -\\ntional culture position us well to continue to drive growth and meaningful impact for decades to come. \\nShantanu Narayen \\nChair & CEO, Adobe Inc. \\nArtwork by Leandro Alzate ',\n",
       "  '4 \\n2022 Adobe Corporate Social Responsibility Report\\n  \\n \\n \\n \\n \\n    \\n  \\n \\n \\n \\n Our Values in Action: 2022 \\nGOVERNANCE AND FINANCIAL \\n50 % \\nBoard of Directors with  \\ngender or demographic  \\ndiversity \\n $17.61 B  \\nRevenue \\na 12% year-over-year growth from FY2021 \\nDigital Media Revenue \\n$12.84 B   \\nan 11% increase from FY2021 \\nDigital Experience Revenue \\n$4.42 B   \\na 14% increase from FY2021 COMMUNITY* \\n$113 M+ \\nin cash and in-kind  \\ninvested in c  ommunities  \\nworldwide \\n89K+ \\nnonproft organizations served \\n70% \\nof Adobe employees volunteered  \\nover  150,000 hours  in their  \\ncommunities  \\n* Data represents calendar year 2022. EMPLOYEES \\n1:1 \\n5 consecutive years of global   \\ngender pay parity  \\n3 consecutive years of pay parity \\nbetween URM * and non-URM \\nemployees in the U.S. \\n34.6 % \\nof employees self-identify as women—an increase of nearly 4,000 employees in fve years \\n* Underrepresented minorities (URM) are U.S. employees who  \\n  identify as Black/African American, Hispanic/Latinx, Native \\nAmerican, Pacifc Islander, and/or two or more races. SUSTAINABILITY \\n100 % \\nrenewable electricity  \\ntarget accelerated from  \\n2035 to 2025 \\nTaking Action \\nAchieved Scope 1, 2 and 3 — \\nbusiness travel emission reduction targets ahead of target year \\nReleased three Adobe product \\nenvironmental calculators  to help \\ncustomers meet their sustainability goals \\nScience-based   \\ntargets in line with \\nC  \\np1\\na.\\nthw5°\\nay Declared   \\nnew water and   \\nwaste reduction  \\ncommitments ',\n",
       "  '5 \\n2022 Adobe Corporate Social Responsibility Report\\n \\n \\n \\n  \\n \\n \\n \\n \\n \\n  Our Values in Action: 2022 \\nTogether with the Adobe Foundation, the Adobe Creative Residency \\nCommunity Fund, Adobe’s employee matching grants program and our customer matching program, we have given nearly $2.5 million to aid humanitarian relief efforts in Ukraine and support journalists on the ground. \\nUkraine Response Efforts \\nEmployee Impact \\nOur belief is that employees are not only our greatest asset as a \\ncompany but also a powerful force for creating change in our \\ncommunities. Through the Pro Bono Initiative, board service \\nand mentoring programs, Adobe offers employees the \\nopportunity to use their skills for good and support causes that \\nare important to them. In honor of Adobe’s 40th anniversary, \\nour employees showed how much they care for communities \\naround the world. \\n4,808 \\ncauses and organizations supported 3,795  \\nunique donations by employees \\nAwards and Rankings \\nView the full list of recognitions here  and here . ',\n",
       "  '6 \\n2022 Adobe Corporate Social Responsibility Report\\n \\n \\n \\n \\n \\n \\n    \\n \\n \\n \\n \\n \\n \\n \\n  \\n \\n  \\n \\n  \\n  \\n     \\n \\n  \\n  Governance and Oversight \\nWe have the power to create positive change in the places where we live and work, and \\nour executive leadership and board of directors are engaged in every step of this journey. \\nOur governance structure ensures our  \\ncorporate social responsibility (CSR) eforts  \\nare coordinated across our business. \\nOur management team provides updates on an annual, if not \\nmore frequent basis, to the Board and its committees on various CSR matters, such as diversity, equity and inclusion (DEI) and climate action. Our Sustainability Committee, a global, cross-functional group of individuals overseen by an executive council, reviews and guides strategies and proposes action plans and performance objectives related to our sustainability efforts. \\nAccountability \\nWe hold ourselves accountable for progress against our commitments and goals. In 2022 we conducted a third-party audit to strengthen our DEI communications and reporting processes. We also completed our first global Human Rights Impact Assessment to document salient human rights risks and mitigation activities, and facilitate stakeholder dialogue. Each assessment showed that, across Adobe, increased focus on DEI and human rights efforts is viewed as a critical way we can create lasting change inside and outside our company. Materiality \\nWe use a comprehensive materiality assessment process to ensure that our strategies, programs and reporting all focus on the issues that matter most to our stakeholders and deliver the greatest social and environmental impact to our communities. \\n“Adobe’s commitment to people, purpose and \\ncommunity underpins everything we do — \\nfrom our product innovations and sustainable \\noperations to the causes we champion — \\npaving the way for the company’s next decade \\nof growth and impact.” \\n—Jonathan Vaas , VP, Investor Relations \\n',\n",
       "  '2022 Adobe Corporate Social Responsibility Report\\n7 Te Power of Collaboration \\nCollaboration is the embodiment of our purpose and impact as a company. Our approach \\nto building long-term, lasting collaboration around shared values—and sustaining it over time for maximum impact—is what sets us apart. In every collaboration, we commit the full weight of our people, our products and our philanthropy. We take a proactive, differentiated and transparent approach. \\n \\nConsider just a few examples of the impact we have driven by working together: \\nAdobe for All \\nWe utilized our engagement with organizations such as the National Minority Supplier Development Council , \\nNational LGBT Chamber of Commerce and National \\nVeteran Business Development Council to increase our FY2022 spend with diverse suppliers by 9.9%. Creativity for All \\nThrough the Sundance Ignite and Women to Watch x Adobe  \\nFellowships , we support new voices and talents from the next \\ngeneration of filmmakers by providing professional development spanning access to tools, mentorships and resources to empower bold new storytelling in film and media. So far, 125 filmmakers have gone through the programs and 17+ have premiered films  \\nat the Sundance Film Festival. \\nTechnology to Transform \\nWe worked with the Business Software Alliance , the world’s  \\nleading advocate for innovation in the software industry,  \\nto ensure that responsible AI ethics regulations are passed throughout the world. Sustainability at Scale \\nAdobe participated in LEAD on Climate 2022 , a group that  \\nbrought together companies and investors to call on the U.S. Congress to address the climate crisis and accelerate the  \\ntransition to domestic clean energy. “The donated Adobe product has been utilized \\non a near-daily basis by 70+ users across our \\nentire organization in the past year. Adobe was \\nable to make some helpful suggestions as to how \\nto address some of the weaknesses with the \\ncurrent tools we use on the Communications \\nteam. These Adobe product donations are \\nutilized in the early stages of and throughout \\nnearly every visual investigation conducted by \\nHRW’s Digital Investigations Lab team.” \\n—Human Rights Watch ',\n",
       "  '2022 Adobe Corporate Social Responsibility Report8 8 \\nAdobe for All \\nWe believe that when people feel  \\nrespected and included, they are more  \\ncreative, innovative and successful.  20 22 Adobe Corporate Social Responsibility Report \\nArtwork by  Yulia Vus ',\n",
       "  '9 \\n2022 Adobe Corporate Social Responsibility Report\\n  \\n \\n \\n \\n \\n \\n  \\n \\n \\n \\n \\n    \\n \\n \\n \\n \\n \\n Adobe for All: Equity and Advancement Initiative \\nIn 2022, we made progress across diversity, \\nequity and inclusion by building a more diverse workforce, fostering an inclusive workplace and mobilizing our ecosystem of partners to make an impact outside the company. We also furthered our global network of partners and collaborators to foster racial and social justice around the world. \\nGlobal Reach, Global Impact \\nIn 2022, the Adobe Foundation launched the Equity and Advancement Initiative \\n(EAI) , a new, global approach to nonprofit collaboration grounded in the pillars of \\nPeople, Product and Philanthropy. EAI is a holistic model of corporate philanthropy that draws upon the best of Adobe to support nonprofit organizations through: \\n• Foundation grants \\n• Employee giving and volunteering \\n• Access to Adobe product \\n• Pro bono support Through EAI, Adobe collaborates with 11 best-in-class racial and social justice organizations that share our commitment to advance equity and inclusion within our business and out in our communities. Their focus areas are aligned with the priorities of our DEI teams and Employee Networks, which participated in the selection of EAI organizations. \\nThe Initiative centers on both impact and two-way  \\nengagement in which we share our learnings across  \\nthe EAI cohort and Adobe. Adobe hosts a cohort  \\ncommunity that meets regularly, composed of  \\nleaders from each of the 11 EAI organizations,  \\nenabling nonprofit leaders working across issues and  \\ngeographies to advise Adobe and one another on  \\nwhat is working and what can be improved. funder. Mona Sinha, Global Executive Director of   \\nEAI organization  Equality Now , recently shared:  \\nWe also strive to practice “trust-based philanthropy”  “Adobe is really redefining what CSR means, showing  \\nby collaborating with organizations that align with  genuine vision and leadership in bringing   \\nAdobe for All’s commitment and being responsive   all these social justice nonprofits together in a  \\nto the true needs of those organizations. Through EAI,  collaborative cohort to share learning, expertise and  \\nAdobe provides multiyear general operating support  drive synergies across our shared mission of social  \\nand limits funder-imposed requirements — strategies  justice — we talk to other brands and partners about  \\nthe organizations point to as unique for a corporate  it, because [it’s] trailblazing.” \\n',\n",
       "  '10 \\n2022 Adobe Corporate Social Responsibility Report\\n  \\n  \\n  \\n \\n \\n \\n  \\n  \\n Adobe for All: Driving Progress Within Adobe and Beyond \\nAn important dimension of measuring our progress on DEI is tracking the makeup of our employee base over time. In FY2022, \\nwe grew our population of women employees globally and underrepresented minority (URM) employees in the U.S., and we are pleased with our progress over the past five years with the representation and the number of employees self-identifying as women and U.S. URM employees. \\nRepresentation Metrics & Goals \\nIn September 2020, we established aspirational goals \\nfor representation overall and at leadership levels to help realize our vision of a truly diverse and inclusive workplace. \\n•  I\\nncrease representation of women  in leadership  \\npositions, defined as employees who are director-\\nlevel and above, to 30% globally by 2025. \\n•  Double representation of U.S. URM employees   \\nin leadership positions by 2025. \\n•  Double Black representation  as a percentage   \\nof U.S. employees by 2025. \\nAdobe’s vision and strategy for creating a diverse workforce \\nis outlined at adobe.com/diversity . \\nA comprehensive set of key DEI performance indicators is available in the Social data table . FY2022 progress against key goals:  \\n27.7 %  \\nWomen in Director+ leadership   \\npositions globally   \\n+50%  from end of FY2020 7.6%  \\nURM employees in Director+  \\nleadership in the U.S.   \\n+49%  from end of FY2020 3.1%   \\nBlack employees in our   \\nU.S. employee base   \\n+63%  from end of FY2020 \\nWe continued to see steady progress in the percentage \\nof women represented in our global workforce: \\n \\n  33% 33.4 % 33.8 % 34.6 % + 58.4 %31.9 % 6,334 \\n2018 2019 2020 2021 2022 2018 2022 \\n% Women in Global Employee Base Abobe employees self-identifying as women 10,036',\n",
       "  '11 \\n2022 Adobe Corporate Social Responsibility Report\\n \\n \\n \\n \\n \\n \\n  \\n  \\n  \\n \\n \\n  \\n \\n \\n \\n \\n  \\n \\n   \\n \\n \\n \\n \\n \\n \\n  \\n \\n  \\n  \\n \\n   \\n  \\n \\n   \\n  \\n \\n  \\n \\n  \\n \\n   \\n  \\n  \\n Adobe for All: Workforce \\nRecruitment and Advancement of a  \\nMore Diverse Workforce \\nAt Adobe, we appreciate the unique qualities that each \\nperson brings to work. We continued to run our job descriptions through software to identify and address potentially biased language, proactively published to diversity job boards, and employed inclusive recruitment practices to help us source candidates from diverse backgrounds. We continued our Hiring at Adobe program for managers and interviewers, which focuses on ensuring fair and consistent hiring processes, and initiated a certified diversity recruiter program. In FY2022, we invested in \\npartnerships and events to engage candidates across underrepresented communities, including: \\nBlack/African American : AfroTech, Codehouse, \\nHBCU 20x20, Mentor Me Collective, \\nNational Black MBA \\nDisability: Disability:IN, Project Hired \\nHispanic/Latinx:  San José State University \\nLatino Business Student Association, LatinX in AI Indigenous: Advancing Indigenous People \\nin STEM, American Indian Science and \\nEngineering Society \\nLGBTQ+:  Lesbians Who Tech \\nUnderrepresented Minorities:  AdColor, \\nManagement Leadership for Tomorrow, \\nLife After the NFL \\nVeterans: HIRE VETS NOW, VetinTech \\nWomen:  Grace Hopper Celebration of Women, \\nSan José State University’s Society of Women \\nin Engineering University and College Engagement \\nIn FY2022, we continued our support of historically Black colleges and universities (HBCUs) and Hispanic-serving Institutions (HSIs). In so doing, we exposed more than 22,000 students to skills for jobs in tech and creative industries. The Adobe Foundation  granted $1 million to each of the \\nparticipating universities, including Bowie State University, Winston-Salem State University and San José State University. Beyond our financial support, we worked with faculty and staff at each of the institutions to provide students with training and learning programs, access to creative and digital tools, and mentoring and career development opportunities. \\nHighlights of our collaboration include: \\n• The launch of the Student Athlete Micro Internship  program to provide \\nstudent athletes with career skills and experiences \\n• A cyber security internship program  with Bowie State University \\n• The Adobe Ignite HBCU Scholarship  with the Thurgood Marshall College \\nFund, which awards 50 students $15,000 scholarships in the 2022–2023 \\nacademic school year \\nWe continued our successful university technology scholarship programs designed to create gender equality in science, technology and engineering domains by encouraging women to showcase their excellence in computing and technology and become future leaders and role models in the field. This included the Adobe Research Women in Technology Scholarship  for women \\nwho are studying at North American universities, and the Adobe India Women in Tech Scholarship for women enrolled in an Indian university or institute. Employee Pride in Dublin, Ireland \\n',\n",
       "  \"12 \\n2022 Adobe Corporate Social Responsibility Report\\n \\n \\n \\n \\n \\n \\n \\n   \\n \\n \\n  \\n \\n \\n \\n \\n  \\n  \\n \\n \\n \\n \\n \\n \\n \\n \\n Adobe for All: Workforce \\nMid-career Pathways \\nGoing beyond universities, we want to give individuals from nontraditional \\nbackgrounds in the U.S. new opportunities to enter technology and design careers. \\nAdobe Digital Academy \\nEstablished in March 2016, the Adobe Digital  \\nA\\ncademy , in partnership with General Assembly , \\nofers an alternative and accelerated path to  \\nswitching careers, and we are commited to  \\nplacing 99% of the graduates into full-time jobs  \\nin the years ahead, whether at Adobe or another  \\ncompany. Te program provides candidates with  \\nscholarships and living stipends to help them  \\ngain the education for careers in user experience  \\ndesign, data science or web development. SheSparks internship program At o\\nur India sites, our innovative SheSparks internship \\nprogram  enabled women to successfully transition back \\nto full-time work after a career break. Established in 2019, this six-month bridge program empowers returning women professionals with training, role-specific mentors, a supportive community and opportunities to grow with high-impact work. More than 50 women have participated in the program and secured positions at Adobe including project managers, data engineers, solution architects, engineering program managers and more. \\n Women's Executive Shadow Program at Adobe \\nInvesting for Success \\nAdobe offers growth and development programs globally \\nfor underrepresented groups to strengthen career development and pursue leadership roles. \\nBecause increasing women representation in the tech industry is a universal \\nchallenge, we hosted a number of successful programs for women at Adobe including the Leadership Circles development program, which launched \\n10 years ago; Women’s Executive Shadow Program globally; WeLead program in India; Women in Tech Forum career coaching platform in EMEA; and Women Emerging Leaders Program  in APAC and Japan. \\nAdobe is also investing in development programs for underrepresented groups. Through the Taking Action Initiative  we have continued the Adobe \\nSponsorship Program  for Black managers and directors, as well as the \\nMcKinsey Connected Leaders Academy  for Black, Asian/Pacific Islander \\nand Hispanic/Latinx employees. \",\n",
       "  '13 \\n2022 Adobe Corporate Social Responsibility Report\\n \\n  \\n \\n  \\n \\n \\n \\n \\n  \\n \\n Adobe for All: Workplace \\nWe work hard every day to achieve the ideal of Adobe for All \\nthrough a workplace that inspires a sense of belonging, family-friendly benefits, support for regional and global employee communities, parity initiatives, and more. \\nEmployee Communities  \\nAdobe’s eight employee networks were instrumental in building community, strengthening \\ninclusion and driving progress for underrepresented groups. The impact of our employee \\nnetworks was part of the fabric of our Adobe Life as we celebrated cultural moments like Black History Month, Lunar New Year, Pride Month, Women’s History Month and many more. Employee networks created opportunities to learn and grow, helped with recruiting efforts, sponsored a peer mentoring program, and provided support for nonprofit organizations. \\nLearn more about Adobe’s employee networks  and their commitment to strengthen our culture. \\n \\n \\nLet’s Belong Together \\nAt Adobe, we use the power of storytelling to  \\nhelp build empathy, strengthen inclusion and  \\nexpand perspectives. Our annual Adobe for \\nAll Week  event centered on the theme, Let’s  \\nBelong Together, and provided a unifying  \\nmoment for employees to celebrate  \\nprogress, be inspired by employee and guest  \\nspeakers’ stories, and commit to making  \\nmeaningful change. Through hybrid event  \\nprogramming, we brought together 7,200  \\nemployees virtually and 6,700 employees  \\nin-person across Asia Pacific, Europe, India,  \\nJapan, and the Americas.  Support for Work and Life \\nWe support our employees in their lives  \\noutside work through benefits to their  \\nhealth, education, and family lives. We have  \\nenhanced our benefits to support the  \\nLBGTQ+ community, provided expanded  \\nwomen’s health benefits, and continued to  \\nintroduce enhanced parental leave benefits  \\naround the world. \\nTo find more about the comprehensive  \\nbenefits offered to our employees visit:   \\nEmployee benefits   ',\n",
       "  '14 \\n2022 Adobe Corporate Social Responsibility Report\\n  \\n \\n \\n \\n  \\n   \\n  \\n \\xa0 \\n \\n \\n  \\n \\n  \\n \\n     \\n  \\n \\n  \\n\\xa0Adobe for All: Workplace \\nAllyship   \\nIn FY2022, we continued our global employee allyship program, \\ncalled Action Circles , with the goal of helping employees \\nbecome active and effective allies in supporting underserved and underrepresented groups. \\n1,024 \\nemployees around the world participated \\nin Action Circles in FY2022 \\nEmployees celebrating Diwali \\nDemonstrating Fairness   \\nTrough Parity Initiatives  \\nWe invest in analysis and transparency to demonstrate our \\ncommitment to fair compensation. We define pay parity as ensuring that employees in the same job and location are paid fairly relative to one another, regardless of gender or ethnicity. \\nCommitments \\nIn FY2022, we maintained  global gender  \\npay parity  for the fifth year in a row. \\nIn FY2022, we maintained pay parity \\nbetween URM and non-URM \\nemployees  in the U.S. for the third \\nyear in a row. \\nAdobe continues to support the \\nCalifornia Equal Pay Pledge . \\nOur French business achieved a\\n 90/100 score in the 2022 France \\nGender Equality Index . \\nAdobe employees celebrating together \\nPay Distribution   \\nUnadjusted median pay gap, a metric frequently used by \\nthe U.S. Bureau of Labor Statistics and other governmental organizations, compares the median pay of one population to the median pay of another population, where median pay is the midpoint of a stack ranking of salaries from low to high. \\nAs of July 1, 2022: \\nOur unadjusted global median pay for women \\nwas 97.1% of the median pay for men \\nOur unadjusted median pay for URM employees was \\n86.1%  of the median pay for non-URM \\nemployees in the U.S. ',\n",
       "  \"15 \\n2022 Adobe Corporate Social Responsibility Report\\n \\n \\n \\n \\n   \\n \\n  \\n  \\n \\n  \\n   Adobe for All: Ecosystem \\nWe actively align our DEI commitments to our products, partnerships and suppliers to amplify our reach and impact. \\nIn FY2022, we collaborated with organizations dedicated to driving progress. \\nDriving Diversity Across Our Industry \\nWe continued our engagements with CEO Action for Diversity &  \\nInclusion , Parity.org  and  The Institute for Corporate Productivity . \\nWe collaborated with industry peers to advance diversity across  \\nmultiple dimensions by improving the experiences of people with  \\ndisabilities as a member of The Valuable 500 ; addressing race issues   \\nin the workplace through the Ascend 5-Point Action Agenda ; and \\ncommitting to interview at least one qualified woman and person   \\nof color for every open role at the vice president and above level  \\nthrough the  ParityPledge . \\nAligned with our commitment to fostering an inclusive and supportive \\nenvironment, we participated in the Bloomberg Gender Equality \\nIndex , Human Rights Campaign Foundation’s Corporate Equality \\nIndex , and Disability:IN  and the American Association of People with \\nDisabilities' Disability Equality Index . \\nSupplier Diversity Program \\nWe continue to invest in our Supplier Diversity  \\nProgram  to ensure that Adobe’s purchasing strategy  \\nincludes businesses that are certified as majority-\\nowned and operated by entrepreneurs from  \\nunderrepresented groups. \\nOur increased spend with diverse suppliers builds \\non our ongoing partnerships with: \\n• Western Regional Minority Supplier Development \\nCouncil \\n• National Minority Supplier Development Council \\n• Women’s Business Enterprise National Council \\n• National LGBT Chamber of Commerce \\n• National Veteran Business Development Council \\n• Disability:IN \\n9.9% \\nincrease in our spend with diverse suppliers \\nin FY2022 \\n\",\n",
       "  '2022 Adobe Corporate Social Responsibility Report16 2022 Adobe Corporate Social Responsibility Report 16 \\nCreativity for All \\nWe believe that everyone is creative and has  \\nthe right to share their story, which creates a  \\nricher world for all of us. \\xa0\\nArtwork by  Yulia Vus ',\n",
       "  '17 \\n2022 Adobe Corporate Social Responsibility Report\\n \\n \\n \\n \\n \\n \\n \\n \\n \\n \\n \\n  \\n \\n \\n \\n \\n \\n  \\n \\n \\n   \\n  \\n \\n  \\n   \\n  \\n \\n \\n \\n Creativity for All:  Creating a 21st Century Workforce \\nFrom supporting diverse creators through our Sundance x Adobe Fellowship, to the hundreds of creators we’ve aided fnancially \\nthrough our Adobe Creative Residency Community Fund, we are enabling people around the world to tell their stories on a larger scale. \\nCreative expression has become a 21st century skill. We’re working to ensure all students have access to creative \\ncurricula and opportunities.\\xa0Digital literacy is an imperative, and we’re committed to equipping students and teachers with what they need to succeed. We invest in youth and their creative pursuits through: \\nIndia 2% for Youth \\nWe have engaged more than \\n100,000 students in 800 villages in India via “Creative Clubs\", and supported Mobile Innovation labs that reach an additional 21,000 children in India. Khan Academy  \\nAdobe has supported the integration of creativity into the curriculum, reaching 40,000 teachers and 3 million students globally . Creativity Scholarships  \\nIn 2022, we awarded over $5 million in scholarships to diverse students and career switchers to focus on careers in technology and creative industries. Adobe Express \\nWe have put Adobe Express in the hands of more than 40 million K-12 students globally , and we are \\nengaging with college students across the U.S. at more than 50 designated Adobe Creative Campuses. \\nUSC Annenberg Digital Lounge \\nAdobe has enjoyed a long-running partnership with the Annenberg School for Communication and Journalism at the University of Southern California. As part of Annenberg’s curriculum , \\nstudents can enroll in a free 10-week certification course, taught by Adobe experts, which takes them through Adobe’s software products. Students attain proficiency in a suite of Adobe products, which opens them to a variety of career opportunities focused on design and creativity skills. ',\n",
       "  '2022 Adobe Corporate Social Responsibility Report\\n18 Creativity for All:  Supporting Creators Around the World \\nCreativity is the great enabler and has the power to create change  \\nin the world, by uniting us, helping us cope, and inspiring us.  \\nIt’s also how Adobe uniquely drives impact by empowering  \\nthe world’s creators. \\nGiving Voice and Support to Creators in Ukraine \\nAdobe founded the Creative Residency Community Fund to support the creative community \\nduring the height of the COVID-19 crisis. In response to the humanitarian crisis in Ukraine, Adobe transitioned the Fund’s activities to support creators in the region. In 2022, we provided grants to 125 creators impacted by the war in Ukraine. \\nSelected applicants received \\n12-month \\nsubscription  \\nto Adobe Creative Cloud to \\nsupport their work. \\n$10,000  \\nfrom the Fund to be used at  \\ntheir discretion, whether for professional needs like new tools and sofware, or simply to support themselves and their families. Supporting Mental Health \\nthrough Creative Expression \\nAdobe is committed to addressing the \\ngrowing global mental health crisis by investing in the systems, policies and organizations supporting young people. Throughout 2022, Adobe worked in collaboration with The National Alliance on Mental Illness (NAMI) , The \\nJed Foundation (JED) and United for Global Mental Health  to better \\nunderstand the relationship between creativity and positive mental outcomes, and to increase accessibility to mental health resources among youth creators around the world. In 2022, the Adobe Foundation gave: \\n• $1.5 million to NAMI  to fund \\nresearch on the relationship \\nbetween creativity and mental health and expand its person-first digital storytelling initiative. \\n• $1 million to JED  to power the \\nexpansion of its programming  \\nfor 150 high schools and 500  \\nuniversities by the end of 2023; investment in new content and campaign resources to help young adults with lived experiences to share their stories; and the creation of a Center for Storytelling and Culture Change that will ensure that representations of mental health  \\nare authentic, accurate and safe. \\n• $250,000 to United for Global Mental Health  to support its Global \\nMental Health Action Network, a cross-sector community of 2,200 individuals and organizations from 127 countries that share a mission  \\nto promote the right to good  \\nmental health. ',\n",
       "  \"19 \\n2022 Adobe Corporate Social Responsibility Report\\n  \\n \\n \\n \\n  \\n \\n \\n \\n \\n \\n Creativity for All:  Elevating Diverse Voices \\nAdobe is investing in diverse creators and promoting systems and policies that give everyone the opportunity to create, \\nmake their voices heard and share their stories. \\nDiverse Voices \\nAdobe's Diverse Voices  program was built to provide underrepresented creators \\nwith tangible and scalable opportunities to grow their careers by ofering Adobe \\nplatforms to amplify their work and stories as well as mentorship with industry leaders inside and outside Adobe. Te Diverse Voices\\xa0platform on Adobe.com showcases stories of diverse creators from a spectrum of disciplines. Examples of our initiatives to make creativity more equitable include: \\nDedicated Campaigns \\nCreators around the world shared  \\ntheir voice across social channels,  \\nA\\ndobe.com and our media partners’  \\nplatforms. Providing more channels to  \\nget their work seen and providing  \\nessential work experience and  \\nexposure to advance their own  \\nplatforms has resulted in over 20  \\nmillion impressions for diverse  \\ncreators around the world. 20 22 Sundance Ignite x Adobe Fellows \\nAdobe MAX \\nDuring our annual creativity \\nconference in October 2022, we brought Diverse Voices to life — reaching approximately 100,000 people—through virtual presentations, panel discussions, and keynote speeches. \\nAdobe Max \\nCredit: Aurélia Durand \\nPartnerships \\nOur work with partners such as Sundance,  \\nApple+, Meta, USC Annenberg and others  \\naims to provide underrepresented creators  \\nwith the mentorship and access they need  \\nto advance their careers. In 2022, the  \\npartnerships resulted in 75 new intensive  \\nmentorships and over 10 million  \\nimpressions for their work. \",\n",
       "  '2022 Adobe Corporate Social Responsibility Report  20 2022 Adobe Corporate Social Responsibility Report 20 \\nTechnology to  \\nTransform \\nWe are committed to advancing the responsible \\nuse of technology for the good of society. Our  \\nin\\nnovations are making a significant impact   \\nacross  AI Ethics , security , privacy , trust and  \\ntransparency , accessibility , and sustainability . \\nArtwork by  Yulia Vus ',\n",
       "  '21\\n2022 Adobe Corporate Social Responsibility Report\\nTechnology to Transform: Leading the Way\\nWith the accelerating shift to digital channels, consumer expectations, privacy laws and platform requirements are evolving at  \\nan unprecedented pace. Creating a safe digital environment for our community partners, customers and employees requires  \\nongoing collaboration across the software industry, with policymakers, with our customers and with our partners. \\nAI Ethics \\nOur people-centered approach to AI seeks to enhance—rather than \\nreplace—human endeavor. We believe AI has the power to amplify \\nhuman intelligence, creativity and ingenuity to create exceptional digital experiences, and we are committed to advancing AI in a responsible, inclusive and ethical way. All new AI features and innovations released in 2022 were developed in accordance with Adobe’s AI Ethics principles of accountability, responsibility and transparency.\\nExamples of our efforts include:\\n• Continuing oversight from our AI Ethics Committee  \\nand Review Board , which includes employees with diverse \\nprofessional backgrounds and life experiences\\n• Supporting ongoing collaboration with industry leaders to create  \\nand build guiding frameworks, Trust in AI and  AI Risk Management\\n• Continuing engagements with organizations such as the Business \\nSoftware Alliance  to ensure that responsible AI regulations  \\nare passe d throughout the world, and the National Institute  \\nof Standards and Technology to better manage AI risks to  \\nindividuals, organizations and society 900+ global members\\nsince the launch of the Content Authenticity Initiative  \\n(CAI) three years agoTrust and Transparency\\nCreating a safe digital environment for our community \\npartners, customers and employees requires ongoing collaboration across the software industry, with policy-makers, with our customers and with our partners.\\nThree years ago, we launched the Content Authenticity  \\nInitiative (CAI) with the goal of increasing trust  \\nand transparency online through provenance, which \\ndescribes the origins of a piece of digital content.  \\nThe CAI is a further demonstration to our customers  \\nthat they can be confident that Adobe builds solutions  \\nin a way that is ethical, responsible and inclusive.  \\nThe technology empowers creators everywhere to  \\nadd a layer of provable authenticity to their content.\\n1,000 + \\nglobal CAI members since launch three years agoIn 2022, the CAI furthered its mission by launching  \\nopen-source technical standards for content provenance, developed in partnership with the Coalition for Content Provenance and Authenticity (C2PA), and a suite of  \\nopen-source tools, enabling a broad developer community to integrate the C2PA standards. The CAI also collaborated on significant policy developments  \\nin Europe and the U.S., including on the European Commission’s 2022 Code of Practice on Disinformation, the first international code to include commitments  \\non provenance and the C2PA standard. ',\n",
       "  '22 \\n2022 Adobe Corporate Social Responsibility Report\\n \\n  \\n \\n \\n  \\n \\n \\n \\n \\n \\n  \\n\\xa0\\n \\n \\n \\n \\n \\n \\n \\n \\n \\n Technology to Transform: Accessibility \\nAdobe has been a longtime champion of \\naccessibility and digital inclusion. Our digital accessibility strategy is built on three principles: \\n1.Integrating accessibility features in all our products\\nand platforms, from design through implementation\\n2.Partnering with government and industry leadersto set web accessibility standards to promotegreater inclusion\\n3.Ensuring that Adobe provides a supportiveenvironment for all employees includingthose with disabilitiesIn 2022, our dedicated Accessibility team was awarded the   \\nAccessibility at Scale award for our wide-reaching and mature  \\naccessibility efforts. Other progress includes:  \\n• Promoting our internal Digital Accessibility Guide to help  \\ndev\\nelopers build accessibility into products\\n• Supporting our  Blue Belt accessibility training program   \\nto educate our engineers and product testers\\n• Incorporating  inclusive design principles across our   \\nproducts to make them more accessible\\n• Initiating a program to ensure our software procurement  \\nprocesses  include accessibility considerations\\n• Continuing our longstanding involvement with the   \\nW3C’s WCAG and ARIA guidelines for accessibility\\nHarnessing Digital Tools and Social Media \\nto Demystify Disabilities \\nIn 2022, we conducted research to explore how people with disabilities are \\nraising awareness, increasing representation, and inspiring others through \\ncreative tools and social media.\\xa0We found that people with disabilities are \\nnavigating the digital world in a way that drives creativity, spurs innovation \\nand fosters collaboration on a global scale. \\nPartnering with Experts \\non Readability \\nThrough Adobe’s Readability Initiative , we’re \\nworking with educators, reading experts, \\nnonprofits and technologists to personalize \\nthe experience of reading on digital devices. \\nTogether we’re working to conduct research, \\nrun pilot programs, and share our learnings to \\nhelp people of all ages and abilities read better through machine learning and digital \\ntools like Adobe Acrobat. These tools give \\nreaders the ability to customize their PDF reading experience, which can improve speed, \\ncomfort and reading comprehension. ',\n",
       "  \"23 \\n2022 Adobe Corporate Social Responsibility Report\\n \\n \\n \\n \\n \\n \\n   \\n \\n \\n \\n \\n Technology to Transform: Adobe for Nonprofts \\nAdobe Express for Nonprofts \\nIn October 2022, we launched Adobe Express for Nonprofits, \\nwhich provides the premium version of Adobe Express free to nonprofits to help changemakers around the world quickly and easily make standout content. This innovative platform helps organizations easily create stunning social graphics, short videos and web pages to accelerate their mission and drive greater impact. \\nR.O.C.K.'s Student Adult Leadership Training program participate in a beach cleanup to give back to their community. \\nReal Options for City Kids (R.O.C.K.) \\nR.O.C.K. nurtures the healthy development of children by listening attentively to \\ntheir needs and by providing opportunities to those who might not otherwise have \\naccess. They provide active and academic programming to local youth in Visitacion \\nValley —where many children are faced with considerable social and economic \\nchallenges on a daily basis. \\n“I'm an early adopter of Adobe Express and I love it. I use it to create \\ncampaigns from start to finish. I go in there and I create social assets \\nand with the click of a button, I can resize them for any platform. \\nI can make impact graphics for our campaign pages.” \\n—Hayley Walker, Marketing and Development Manager, R.O.C.K. \",\n",
       "  '2022 Adobe Corporate Social Responsibility Report \\n \\n \\n \\n \\n  24 2022 Adobe Corporate Social Responsibility Report 24 \\nSustainability   \\nat Scale \\nWe are enabling sustainability at scale across \\nindustries through our commitment to reducing our impact on the planet, developing digital products that enable our customers and communities to reduce physical waste and cut emissions, and working with our peers, partners, and employees to foster a culture of sustainability. \\nArtwork by  Yulia Vus ',\n",
       "  '25 \\n2022 Adobe Corporate Social Responsibility Report\\n    \\n \\n \\n \\n  \\n  \\n  \\n  Sustainability at Scale: Our Commitments in 2022 and Beyond \\nAs Adobe continues to advance our corporate sustainability goals , \\nwe recognize that we can and must do more to further reduce \\nour environmental impact. This is why Adobe is accelerating our timelines and making additional public commitments to further drive sustainability into all parts of the business, including: \\nAccelerating our goal \\nof powering \\n100 % \\nof our operations with renewable \\nelectricity  from 2035 to 2025 to \\nsupport our science-based target and limit global warming to 1.5°C Declaring new water and waste  \\nreduction commitments \\nreduction in global water \\nusage per full-time employee 25% \\nby 2025 (from a 2019 baseline) \\nglobal waste diversion \\nrate maintained 90% \\nContinuing our engagements globally with policymakers and \\nexternal advocacy groups in support of policy initiatives that foster a more sustainable society and help slow climate change. \\nHUGO BOSS \\nCustomer Success Stories \\nAdobe unveiled the Adobe Substance 3D Sustainability Calculator , which \\ndelivers data and benchmarks for sustainability initiatives tied to 3D design. \\n•  Adobe’s 3D and immersive media innovations  \\nenable companies like Nike to advance its  \\nsustainability goals  by transforming physical  \\nproduct manufacturing to highly efficient  \\ndigital workflows. \\xa0\\n•  Investments in Adobe’s 3D design tools are  \\nhelping  HUGO BOSS  support the company’s  \\nefforts around sustainable fashion. For  \\nsuppliers and vendors, teams can review  \\ndesigns digitally, bypassing the need to create  \\nand ship samples back and forth.  \\xa0\\xa098% \\nreduction in carbon emissions \\ndriven by virtual photoshoots through Adobe Substance 3D, compared to physical photoshoots ',\n",
       "  '26 \\n2022 Adobe Corporate Social Responsibility Report\\n \\n  \\n \\n \\n \\n \\n \\n\\xa0\\n \\n \\n \\n \\n \\n   \\n \\n \\n \\n \\n \\n \\n \\n  \\n \\n \\n  Sustainability at Scale: Reducing Our Impact on the Environment \\nAdobe’s commitment to sustainability and climate action is evident throughout \\nour product offerings, operations, and partnerships and advocacy efforts. We have achieved significant progress in recent years. \\nProduct Innovation \\nAdobe’s sustainability values are grounded in innovation. \\nAs we work to change the world through digital experiences, we also help companies and creators work more efficiently and sustainably. Consider: \\nAdobe PDF  \\nPDF is the de facto global standard for digital document workflows. The introduction of PDF in 1993 provided a universal way to communicate, enabling a mass migration from paper to digital documents. Last year alone more than 400 billion PDFs were opened in Adobe products. \\n400 B+ \\nPDFs opened using Adobe products in 2022 Adobe Document Cloud \\nAs a pioneer in the paper-to-digital transformation, Document Cloud continues to have a real and measurable impact on the environment globally. Document Cloud enables paperless productivity for millions of businesses and individuals worldwide. \\n•  The majority of the Fortune 500, hundreds of government  \\norganizations, thousands of small businesses and millions of  \\nindividuals use Document Cloud’s digital document and e-signature  \\nsolutions instead of paper-based processes every day. \\xa0\\xa0\\n•  Documents created, signed, shared and stored in Document Cloud  \\ndrive a 95% reduction in environmental impact compared with  \\npaper-based processes.  \\n•  Each year in the U.S. alone, Adobe Document Cloud transforms  \\nwhat would have been\\xa030 billion paper documents \\xa0into digital  \\nworkflows, saving the equivalent of 3.2 billion gallons of water,\\xa01.1  \\nbillion pounds of wood,\\xa0177 million pounds of waste,\\xa02.7  \\nbillion\\xa0pounds of greenhouse gas and\\xa01.1 billion kWh of energy. \\n•  The 8 billion electronic and digital signature transactions processed  \\nthrough Adobe Document Cloud in the past year saved 840 million  \\nliters of water and 248,000 trees, and is equivalent to taking over \\n18,400 cars off the road\\xa0for a year. Resource Saver Calculator \\nIn collaboration with the Environmental Defense \\nFund and the Environmental Paper Network, Adobe developed the Resource Saver Calculator . \\nThis useful tool enables customers to understand how Adobe Document Cloud can help make their business more sustainable by saving time, resources, emissions and costs. \\nAccording to our Calculator’s estimates, for every 1 \\nmillion pages signed daily via Adobe Acrobat Sign more than 27 million gallons of water, 1.5 million pounds of waste and 23.4 million pounds of CO2 emissions are avoided. The savings from the CO2 emissions are equivalent to taking 5 million cars off the road. \\n',\n",
       "  \"  \\n\\xa0\\n \\n \\n \\n \\n \\n   \\n \\n \\n \\n \\n \\n \\n \\n \\n \\n  \\n \\n  \\n \\n  \\n \\n  \\n  \\n  \\n \\n \\n \\n  \\n 2022 Adobe Corporate Social Responsibility Report 27Sustainability at Scale: Our Approach \\nOperational sustainability is a hallmark of Adobe, inspiring us to build LEED- and green-certified offices, \\nset a\\xa0100% renewable electricity goal, and establish science-based climate targets. \\nOperations \\nWe’ve already achieved our 2025 targets for reduction in scope 1, scope \\n2 and business travel emissions. And with our continued focus on renewable energy across our major sites, including the completion of our Founders Tower which opened in January 2023—the first all-electric building of its scale powered by 100% renewable energy in Silicon Valley—we’re not just on track but ahead of our original 2035 renewable electricity goal and plan to meet this by 2025. \\nSuppliers \\nWe are collaborating across our value chain with our suppliers. We are working with suppliers to encourage them to set their own science-based climate targets and improve the transparency and accuracy of disclosures. Recently we partnered with our two largest cloud providers to discuss joint action on climate targets and the development of refined reporting methodology to help customers understand the emissions associated with the delivery of Adobe products and services. \\nPublic Policy and Partnerships \\nWhen it comes to sustainability, no single organization can go it alone. We work with our customers, industry peers and partners to use our collective voice to affect change.\\xa0We partner with a variety of organizations and trade and technology associations  around the world \\nto scale our reach and drive lasting impact. \\nFor more details on Adobe’s commitment to the \\nenvironment, read our Sustainability Policy . Examples of our \\ncollaboration include: \\nApril 26, 2022:  \\nAdobe sent a letter  to Members \\nof Congress in support of clean \\nenergy investments \\nFebruary 25, 2022:   \\nAdobe signed a letter to California Governor Newsom in support of a fully funded Office of Racial Equity, which would address systemic inequalities, including the disproportionate impact of climate change on communities of color \\nPhoto Credit: Courtesy of Gensler | Jason O'Rear Photography \",\n",
       "  '28 \\n2022 Adobe Corporate Social Responsibility Report\\n \\n \\n \\n \\n \\n \\n \\n \\n \\n \\n  \\n \\n \\n \\n \\n \\n \\n \\n  \\n \\n  \\n \\n \\n \\n \\n \\n \\n \\n  \\n \\n \\n \\n About this Report \\nWe are committed to providing an annual account of our \\nperformance on CSR issues. Unless otherwise noted, all information conveyed in this report covers Adobe’s Fiscal Year 2022, from Dec. 4, 2021 to Dec. 2, 2022, and all financial information is disclosed in U.S. dollars. \\nAs the most pressing social and environmental issues that we face \\nare increasingly interrelated, we are integrating our annual Diversity and Inclusion Report into this CSR review going forward. Along with additional materials on the Corporate Responsibility , \\nSustainability , Investor Relations and Diversity, Equity and \\nInclusion  sections of our website, this report provides an overview \\nof the priority areas of where Adobe, its employees and its partners are making meaningful, positive impacts on society. Many of our priorities, outcomes and impacts—and thereby our process for communicating them—are greatly informed by the established frameworks used to evaluate company performance across social, environment and governance practices. Our disclosures are informed by the Sustainability Accounting Standards Board (SASB), Global Reporting Initiative (GRI), CDP and Task Force on Climate-Related Financial Disclosures (TCFD). \\nThis update represents our impacts, progress and results as they \\nrelate to social and environmental responsibility. We present performance data throughout the update, and we are committed to the continued improvement, accuracy and sophistication of our corporate social responsibility information. To this end, Adobe’s Corporate Social Responsibility function collaborates across the company to collect, organize and validate the data used in this report. \\nWe welcome your questions, comments and feedback at  \\nc\\nreatechange@adobe.com . \\nYulia Vus  \\nCover Artist, recipient of Adobe Creative \\nResidency Community Fund grant \\nYulia Vus is an illustrator and comic artist \\nfrom the mining town of Chervonograd in Ukraine and currently lives in Lviv. She is known for her illustrations inspired by the moments, situations and characters she finds all around her. She received a Bachelor of Fine Arts from the Ukrainian Academy of Printing and her range of work includes commercial illustration, book illustration, cover design, editorial illustration, poster design and animation. ',\n",
       "  '29 \\n2022 Adobe Corporate Social Responsibility Report\\n \\n \\n \\n \\n \\n \\n \\n \\n \\n \\n \\n \\n \\n \\n \\n \\n \\n  \\n \\n \\n  \\n \\n \\n \\n \\n  \\n  \\n \\n \\n \\n  \\n \\n \\n \\n \\n  \\n  \\n \\n \\n \\n  About this Report \\nCSR Report Disclaimer and Forward-Looking Statements \\nThe report does not cover all information about our business. \\nReferences in this report to information should not be construed as a characterization regarding the materiality of such information to our financial results or for purposes of the U.S. securities laws. While certain matters discussed in this report may be significant, any significance should not be read as necessarily rising to the level of materiality used for the purposes of complying with the U.S. federal securities laws and regulations. The information covered by the report contains forward-looking statements within the meaning of the Private Securities Litigation Reform Act of 1995, including statements regarding our plans, initiatives, projections, goals, commitments, and strategies and related business and stakeholder impacts. These statements involve risks and uncertainties, and actual results may differ materially from any future results expressed or implied by the forward-looking statements. \\nThese risks and uncertainties include, without limitation, \\nassumptions not being realized, global sociodemographic and economic trends, changing government regulations, evolving sustainability strategies, scientific or technological developments, climate-related conditions and weather events, our ability to gather and verify data regarding impacts, the compliance of third parties with our policies and procedures, our expansion into new products, services, technologies, and geographic regions, or other changes in circumstances, as well as the factors set forth in the “Risk Factors” section of Adobe’s most recent periodic reports on Form 10-K and Form 10-Q and subsequent filings. \\nWe assume no obligation, and expressly disclaim any duty \\n(including in response to new or changed information) to update any forward-looking statements or information, which speak as of their respective dates. Readers should not place undue reliance on the forward-looking statements made in this report. Moreover, many of the assumptions, standards, metrics, and measurements used in preparing this report continue to evolve and are based on assumptions believed to be reasonable at the time of preparation, but should not be considered guarantees. Given the inherent uncertainty of the estimates, assumptions, and timelines contained in this report, we may not be able to anticipate whether or the degree to which we will be able to meet our plans, targets, or goals in advance. ',\n",
       "  \"Key ESG  \\nPerformance Indicators30\\n2022 Adobe Corporate Social Responsibility Report Governance\\nREFERENCE INDICES KEY PERFORMANCE INDICATOR 2022 2021 2020\\nGRI General Disclosures 2-6 Total revenue (dollars in millions) $17,606 $15,785 $12,868 \\n% of total revenue\\n      Americas 58% 57% 58%\\n      EMEA 26% 27% 26%\\n      APAC 16% 16% 16%\\nNet income (dollars in millions) $4,756 $4,822 $5,260 \\n% effective tax rate 21% 15% -26%\\nSignificant acquisitionsEntered into a definitive agreement under  \\nwhich we intend to acquire Figma, Inc.  Frame.io, WorkfrontREFERENCE INDICES KEY PERFORMANCE INDICATOR 2022\\nGRI General Disclosures 2-1 Name of organization Adobe Inc.\\nGRI General Disclosures 2-1 Location of organization's headquarters San Jose, California\\nGRI General Disclosures 2-6 Primary brands, products, & servicesDigital Media: We provide products, services and solutions that enable individuals, teams and enterprises to create, publish and promote their content \\nanywhere and accelerate their productivity by modernizing how they view, share, engage with and collaborate on documents and creative content.  \\nOur Digital Media segment is centered around Adobe Creative Cloud and Adobe Document Cloud, which include Adobe Express, Photoshop, Illustrator, Lightroom, Premiere Pro, Acrobat, Adobe Acrobat Sign and many more products, offering a variety of tools for creative professionals, communicators and other consumers. This is the core of what we have delivered to users for decades, and we have continually evolved and expanded our business model to provide our customers with a range of flexible solutions that allow them to reach their full creative potential anytime, anywhere, on any device and on projects of all types.  Digital Experience: We provide an integrated platform and set of applications and services through Adobe Experience Cloud that enable brands and \\nbusinesses to create, manage, execute, measure, monetize and optimize customer experiences that span from analytics to commerce. Our customers include marketers, advertisers, agencies, publishers, merchandisers, merchants, web analysts, data scientists, developers and executives across the C-suite. The foundation of our offering is Adobe Experience Platform, which provides businesses and brands with an open and extensible system for customer experience management that transforms customer data into robust customer profiles that update in real time and uses insights driven by AI to enable the delivery of personalized digital experiences across various channels in milliseconds. \\nGRI General Disclosures 2-1 Restated Certificate of Incorporation Restated Certification of Incorporation\",\n",
       "  \"Key ESG  \\nPerformance Indicators31\\n2022 Adobe Corporate Social Responsibility Report\\nREFERENCE INDICES KEY PERFORMANCE INDICATOR 2022 2021 2020\\nTaxation\\nGRI 102-15 Evaluation of risks of taxation on future company value creation Tax Risk Assessment\\nGRI General Disclosures 2-27 Approach to Tax – Tax Policy Adobe Tax Policy\\nTransparent and ethical business practices\\nGRI 102-22 # of executive and non-executive members of the board of directors 12 12 11\\nGRI 102-22 % independent board members 91% 91% 91%\\nGRI 102-23 Separate CEO and chair roles No No No\\n% female board members 33% 33% 36%\\nGRI General Disclosures 2-11 Shareholder engagement procedures 2023 Proxy Statement\\nIndependent audit committee 2023 Proxy Statement\\nIndependent compensation committee 2023 Proxy Statement\\nGRI General Disclosures 2-11 Independent nominating and governance committee 2023 Proxy Statement\\nGRI General Disclosures 2-19 Board remuneration disclosure 2023 Proxy Statement\\nGRI General Disclosures 2-19 External reporting of compensation of senior executives 2023 Proxy Statement\\nGRI General Disclosures 2-20 CEO compensation linked to total shareholder return (TSR) or similar 2023 Proxy Statement\\nGRI General Disclosures 2-20 Shareholders have right to vote on the remuneration of executives 2023 Proxy Statement\\n% average overall attendance of board meetings 2023 Proxy Statement\\nAudit, audit related and non-audited related fees paid 2023 Proxy Statement\\nGRI General Disclosures 2-20 Executive stock ownership guidelines promotes long-term performance perspective 2023 Proxy Statement\\nClawback policy 2023 Proxy Statement\\nGRI General Disclosures 2-23 Statement on company's main risk factors Form 10-K for FY2022\\nAdobe Materiality Assessment Adobe Materiality AssessmentGovernance\",\n",
       "  'Key ESG  \\nPerformance Indicators32\\n2022 Adobe Corporate Social Responsibility Report\\nREFERENCE INDICES KEY PERFORMANCE INDICATOR 2022 2021 2020\\nTransparent and ethical business practices: anti-corruption and antitrust compliance\\nGRI General Disclosures 2-22 Antitrust policy Adobe Code of Business Conduct\\nGRI General Disclosures 2-22 Measures taken to ensure antitrust compliance Adobe Integrity\\nGRI General Disclosures 2-26 Whistleblower programs Adobe Code of Business Conduct\\nGRI General Disclosures 2-24 3rd party anti-corruption risk assessment procedures Global Anti-Corruption Policy\\nGRI General Disclosures 2-24 Policy to address corruption in high risk areas Global Anti-Corruption Policy\\nSASB TC-SI-520a.1Amount of legal and regulatory fines and settlements associated  \\nwith anti-competitive practices In FY22, we had zero legal or \\nregulatory fines and settlements associated with customer privacy that required disclosure in our public SEC filings.In FY21, we had zero legal or regulatory fines and settlements associated with customer privacy that required disclosure in our public SEC filings.In FY20, we had zero legal or regulatory fines and settlements associated with customer privacy that required disclosure in our public SEC filings.Governance',\n",
       "  \"Key ESG  \\nPerformance Indicators33\\n2022 Adobe Corporate Social Responsibility Report\\nREFERENCE INDICES KEY PERFORMANCE INDICATOR 2022 2021 2020\\nData security, privacy, and managing systemic risks from technology disruptions\\nGRI General Disclosure 2-23, \\nSASB TC-SI-220a.1Adobe Trust Center: operational health, security, privacy and compliance of  Adobe's cloud servicesAdobe Trust Center  \\nGRI General Disclosure 2-23, SASB TC-SI-220a.1Privacy policy Privacy Policy\\nSASB TC-SI-220a.2 How Adobe handles customer information Privacy Policy\\nSASB TC-SI-220a.3 Amount of legal and regulatory fines and settlements associated with customer privacyIn FY22, we had zero monetary losses as a result of legal proceed -\\nings associated with user privacy that required disclosure in our public SEC filings.In FY21, we had zero monetary losses as a result of legal proceed -\\nings associated with user privacy that required disclosure in our public SEC filings.In FY20, we had zero monetary losses as a result of legal proceed -\\nings associated with user privacy that required disclosure in our public SEC filings.\\nSASB TC-SI-220a.4 Law enforcement requests Law Enforcement Requests\\nSASB TC-SI-220a.5 Government-required monitoringGovernment Requests  \\nTransparency Report\\nSASB TC-SI-230a.1 Number of data security breachesIn FY22, we had zero data security breaches that required disclosure in our public SEC filings.In FY21, we had zero data security breaches that required disclosure in our public SEC filings.In FY20, we had zero data security breaches that required disclosure in our public SEC filings.\\nSASB TC-SI-230a.2 Adobe data securityAdobe ʼs Approach to Managing \\nData Security Risk\\nSASB TC-SI-550a.1 Status of Adobe products and performance Status.adobe.com\\nSASB TC-SI-550a.2 Business continuity risks related to disruption of operationsPlease see Item 1A (Risk Factors) in Adobe's Annual report: Form 10-K  \\nfor risks related to the operations of our business. \\nPublic policy transparency\\nGRI General Disclosures 2-23 Political involvement policyAdobe Public Policy and  \\nGovernment Relations Policy\\nTotal financial contributions to political parties, politicians, and PACs $0 $0 $0 \\nGRI 415-1 Lobbying and political expenses $2.04M $2.13M $1.27M\\nGRI 102-13 Association members Association memberships\\nPolicy advocacy highlights Priority public policy areasGovernance\",\n",
       "  'Key ESG  \\nPerformance Indicators34\\n2022 Adobe Corporate Social Responsibility Report\\nREFERENCE INDICES KEY PERFORMANCE INDICATOR 2022 2021 2020\\nResponsible supply chain\\n% relevant suppliers required to comply with the Responsible Business Alliance (RBA) 100% 100% 100%\\nRBA validation audits of turn-key suppliers None required None Required None Required\\nGRI General Disclosures 2-25 % significant suppliers that have undergone human rights screenings 100% 100% 100%\\nGRI General Disclosures 2-25 # incidents related to freedom of association 0 0 0\\nGRI General Disclosures 2-25 # Incidents related to child labor 0 0 0\\nGRI General Disclosures 2-25 # Incidents related to forced labor 0 0 0\\nGRI General Disclosures 2-23 Supply chain implementation standards Business Partner Code of Conduct \\nGRI General Disclosures 2-23 Scope of social supplier standards Business Partner Code of Conduct\\nGRI General Disclosures 2-23 Supply chain monitoring practices Modern slavery statements\\nGRI General Disclosures 2-23 Global human rights policy Global Human Rights Policy\\nGRI General Disclosures 2-23 Tool to report human rights violations Adobe Ethics and Integrity\\nGRI General Disclosures 2-23 Human rights criteria in selection of suppliers Business Partner Code of Conduct \\nGRI 412-3 Supplier diversity program Supplier Diversity ProgramGovernance',\n",
       "  'Key ESG  \\nPerformance Indicators35\\n2022 Adobe Corporate Social Responsibility Report Social\\nREFERENCE INDICES KEY PERFORMANCE INDICATOR 2022 2021 2020\\nEmployees\\nGRI 102-7 Global employees (assigned + unassigned + remote) 29,239 25,832 22,516\\nSASB TC-SI-330a.1 % employees in U.S. 51% 52% 52%\\nSASB TC-SI-330a.1 % employees outside U.S. 49% 48% 48%\\nEmployee diversity, equity and inclusion1\\nGRI 205-1 Anti-Discrimination Policy Adobe Code of Business Conduct  \\nGRI 405-1 Diversity of governance bodies and employees 2023 Proxy Statement\\nGRI 405-2 Ratio of basic salary and remuneration of women to men 1:1 1:1 1:1\\nGRI 102-8, SASB TC-SI-330a.3 % female employees 34.6% 33.8% 33.4%\\nGRI 102-8, SASB TC-SI-330a.3 % male employees 64.7% 65.5% 66.3%\\nRace and Ethnicity - U.S. Only\\nGRI 102-8, SASB TC-SI-330a.3 % U.S. employee base, URM211.7% 10.9% 10.4%\\nGRI 102-8, SASB TC-SI-330a.3 % White 52.5% 55.4% 58.1%\\nGRI 102-8, SASB TC-SI-330a.3 % Asian 30.7% 29.2% 31.2%\\nGRI 102-8, SASB TC-SI-330a.3 % Hispanic/Latinx 5.6% 5.2% 5.3%\\nGRI 102-8, SASB TC-SI-330a.3 % Black/African American 3.1% 2.8% 2.5%\\nGRI 102-8, SASB TC-SI-330a.3 % Native Hawaiian/Pacific Islander 0.2% 0.3% <1%\\nGRI 102-8, SASB TC-SI-330a.3 % Native American/Alaska Native 0.2% 0.3% 0.2%\\nGRI 102-8, SASB TC-SI-330a.3 % two or more races 2.6% 2.5% 2.5%\\nGRI 102-8, SASB TC-SI-330a.3 % undisclosed 5.1% 4.5% 2.9%\\n1 FY2020–2021 historical metrics have been updated to reflect our ongoing methodology. We implemented a new data platform in July 2022, which impacted some of the historical metrics by <1%. Percentages may not add up to 100 due to employees who have not self-identified their \\ngender and/or race and ethnicity data, and also due to rounding. In FY2022, <1% of our global employees did not disclose gender data and 5.2% of our U.S. employees did not disclose race and ethnicity data.      \\n2 URM are those employees in the U.S. who identify as Black/African American, Hispanic/Latinx, Native American, Pacific Islander, and/or two or more races.',\n",
       "  'Key ESG  \\nPerformance Indicators36\\n2022 Adobe Corporate Social Responsibility Report\\nREFERENCE INDICES KEY PERFORMANCE INDICATOR 2022 2021 2020\\nEmployee diversity, equity and inclusion1\\nRace and Ethnicity by Gender – U.S. Only\\nGRI 102-8, SASB TC-SI-330a.3 % White, female 35.3% 34.1% 33.8%\\nGRI 102-8, SASB TC-SI-330a.3 % Asian, female 42.8% 41.9% 41.7%\\nGRI 102-8, SASB TC-SI-330a.3 % Hispanic/Latinx, female 46.5% 45.7% 48.1%\\nGRI 102-8, SASB TC-SI-330a.3 % Black/African American, female 40.8% 36.2% 38.4%\\nGRI 102-8, SASB TC-SI-330a.3 % Native American/Alaska Native, female 46.4% 43.5% 55.0%\\nGRI 102-8, SASB TC-SI-330a.3 % Native Hawaiian/Pacific Islander, female 40.0% 38.5% 39.4%\\nGRI 102-8, SASB TC-SI-330a.3 % two or more races, female 45.2% 44.5% 41.7%\\nGender by Race and Ethnicity – U.S. Only\\nFemale\\nGRI 102-8, SASB TC-SI-330a.3 % female, White 48.1% 50.7% 52.6%\\nGRI 102-8, SASB TC-SI-330a.3 % female, Asian 34.1% 32.8% 34.7%\\nGRI 102-8, SASB TC-SI-330a.3 % female, Hispanic/Latinx 6.8% 6.3% 6.8%\\nGRI 102-8, SASB TC-SI-330a.3 % female, Black/African American 3.3% 2.7% 2.5%\\nGRI 102-8, SASB TC-SI-330a.3 % female, Native American/Alaska Native 0.2% <1% <1%\\nGRI 102-8, SASB TC-SI-330a.3 % female, Native Hawaiian/Pacific Islander 0.2% <1% <1%\\nGRI 102-8, SASB TC-SI-330a.3 % female, two or more races 3.0% 2.9% 2.8%\\nGRI 102-8, SASB TC-SI-330a.3 % female, undisclosed 4.3% <5%\\n1 FY2020–2021 historical metrics have been updated to reflect our ongoing methodology. We implemented a new data platform in July 2022, which impacted some of the historical metrics by <1%. Percentages may not add up to 100 due to employees who have not self-identified  \\ntheir gender and/or race and ethnicity data, and also due to rounding. In FY2022, <1% of our global employees did not disclose gender data and 5.2% of our U.S. employees did not disclose race and ethnicity data.      Social',\n",
       "  'Key ESG  \\nPerformance Indicators37\\n2022 Adobe Corporate Social Responsibility Report\\nREFERENCE INDICES KEY PERFORMANCE INDICATOR 2022 2021 2020\\nEmployee diversity, equity and inclusion1\\nMale\\nGRI 102-8, SASB TC-SI-330a.3 % male, White 55.8% 58.6% 61.4%\\nGRI 102-8, SASB TC-SI-330a.3 % male, Asian 28.8% 27.2% 29.0%\\nGRI 102-8, SASB TC-SI-330a.3 % male, Hispanic/Latinx 4.9% 4.5% 4.4%\\nGRI 102-8, SASB TC-SI-330a.3 % male, Black/African American 3.0% 2.8% 2.4%\\nGRI 102-8, SASB TC-SI-330a.3 % male, Native American/Alaska Native 0.2% <1% <1%\\nGRI 102-8, SASB TC-SI-330a.3 % male, Native Hawaiian/Pacific Islander 0.2% <1% <1%\\nGRI 102-8, SASB TC-SI-330a.3 % male, two or more races 2.3% 2.2% 2.3%\\nGRI 102-8, SASB TC-SI-330a.3 % male, undisclosed 4.9% <5%\\nGender by Job Category\\nGRI 102-8, SASB TC-SI-330a.3 % female leadership227.7% 25.4% 24.1%\\nGRI 102-8, SASB TC-SI-330a.3 % male leadership 72.1% 74.5% 75.5%\\nGRI 102-8, SASB TC-SI-330a.3 % female people managers 32.7% 30.7% 28.9%\\nGRI 102-8, SASB TC-SI-330a.3 % male people managers 67.1% 69.1% 71.1%\\nGRI 102-8, SASB TC-SI-330a.3 % female individual contributor 35.1% 34.5% 34.4%\\nGRI 102-8, SASB TC-SI-330a.3 % male individual contributor 64.2% 64.8% 65.3%\\nGRI 102-8, SASB TC-SI-330a.3 % females in tech roles326.9% 26.2% 25.8%\\nGRI 102-8, SASB TC-SI-330a.3 % males in tech roles 72.4% 73.3% 73.9%\\n1 FY2020–2021 historical metrics have been updated to reflect our ongoing methodology. We implemented a new data platform in July 2022, which impacted some of the historical metrics by <1%. Percentages may not add up to 100 due to employees who  \\nhave not self-identified their gender and/or race and ethnicity data, and also due to rounding. In FY2022, <1% of our global employees did not disclose gender data and 5.2% of our U.S. employees did not disclose race and ethnicity data.      \\n2 Starting in FY2022, the definition for “Leadership” was updated to include employees who are director-level and above. Prior to that, “Leadership” was defined as employees who are director-level and above with at least one full-time employee direct report.  \\nThe updated definition has been applied to FY2020 – FY2022 metrics and resulted in a decrease of some historical metrics by <3% due to the larger data set.    \\n3 Technical occupations in computing and information technology are those that require deep technical specialization and knowledge, as well as managers, directors, and executives who oversee technical employees and the development and delivery of  \\ntechnical products. Source: AnitaB.org.Social\\nREFERENCE INDICES KEY PERFORMANCE INDICATOR 2022 2021 2020\\nEmployee diversity, equity and inclusion1\\nMale\\nGRI 102-8, SASB TC-SI-330a.3 % male, White 55.8% 58.6% 61.4%\\nGRI 102-8, SASB TC-SI-330a.3 % male, Asian 28.8% 27.2% 29.0%\\nGRI 102-8, SASB TC-SI-330a.3 % male, Hispanic/Latinx 4.9% 4.5% 4.4%\\nGRI 102-8, SASB TC-SI-330a.3 % male, Black/African American 3.0% 2.8% 2.4%\\nGRI 102-8, SASB TC-SI-330a.3 % male, Native American/Alaska Native 0.2% <1% <1%\\nGRI 102-8, SASB TC-SI-330a.3 % male, Native Hawaiian/Pacific Islander 0.2% <1% <1%\\nGRI 102-8, SASB TC-SI-330a.3 % male, two or more races 2.3% 2.2% 2.3%\\nGRI 102-8, SASB TC-SI-330a.3 % male, undisclosed 4.9% <5%\\nGender by Job Category\\nGRI 102-8, SASB TC-SI-330a.3 % female leadership 27.7% 25.4% 24.1%\\nGRI 102-8, SASB TC-SI-330a.3 % male leadership 72.1% 74.5% 75.5%\\nGRI 102-8, SASB TC-SI-330a.3 % female people managers 32.7% 30.7% 28.9%\\nGRI 102-8, SASB TC-SI-330a.3 % male people managers 67.1% 69.1% 71.1%\\nGRI 102-8, SASB TC-SI-330a.3 % female individual contributor 35.1% 34.5% 34.4%\\nGRI 102-8, SASB TC-SI-330a.3 % male individual contributor 64.2% 64.8% 65.3%\\nGRI 102-8, SASB TC-SI-330a.3 % females in tech roles326.9% 26.2% 25.8%\\nGRI 102-8, SASB TC-SI-330a.3 % males in tech roles 72.4% 73.3% 73.9%\\n1 FY2020–2021 historical metrics have been updated to reflect our ongoing methodology. We implemented a new data platform in July 2022, which impacted some of the historical metrics by <1%. Percentages may not add up to 100 due to employees who  \\nhave not self-identified their gender and/or race and ethnicity data, and also due to rounding. In FY2022, <1% of our global employees did not disclose gender data and 5.2% of our U.S. employees did not disclose race and ethnicity data.   \\n2 Starting in FY2022, the definition for “Leadership” was updated to include employees who are director-level and above. Prior to that, “Leadership” was defined as employees who are director-level and above with at least one full-time employee direct report.  \\nThe updated definition has been applied to FY2020 – FY2022 metrics and resulted in a decrease of some historical metrics by <3% due to the larger data set.    \\n3 Technical occupations in computing and information technology are those that require deep technical specialization and knowledge, as well as managers, directors, and executives who oversee technical employees and the development and delivery of  \\ntechnical products. Source: AnitaB.org.',\n",
       "  'Key ESG  \\nPerformance Indicators38\\n2022 Adobe Corporate Social Responsibility Report\\nREFERENCE INDICES KEY PERFORMANCE INDICATOR 2022 2021 2020\\nEmployee diversity, equity and inclusion1\\nURM by Job Category - U.S. Only\\nGRI 102-8, SASB TC-SI-330a.3 % URM individual contributor 12.5% 11.6% 11.2%\\nGRI 102-8, SASB TC-SI-330a.3 % URM people managers 8.8% 8.2% 7.5%\\nGRI 102-8, SASB TC-SI-330a.3 % URM leadership 7.6% 6.5% 6.5%\\nGRI 102-8, SASB TC-SI-330a.3 % URM tech roles 9.7% 9.2% 8.6%\\nHuman capital management\\nSASB TC-SI-330a.2 Satisfaction level of employees284% 87% 91%\\nNet employment creation as a % of total employees 12.1% 15.3% -0.3%\\n% open positions filled by internal candidates 25% 29% 30%\\nGRI 401-2 Benefits programs Health & Wellbeing, Financial, Time Off, Work & Life Benefits\\nGRI 401-2 Education reimbursement program Adobe Benefits\\nGRI 201-3 Defined benefit plan obligations and other retirement plans Adobe Benefits\\nGRI 404-3 Percentage of employees receiving regular performance and career development reviews Adobe Check-in\\nGRI 403-2 # of employee fatalities resulting from operational accidents per 100,000 0 0 0\\nGRI 403-2 # of contractor fatalities resulting from operational accidents per 100,000 0 0 0\\nGRI 403-3 Occupational health servicesErgonomics Program: Employees can email ergonomics@adobe.com  or submit an ergonomic request  \\nthrough our internal network.\\nGRI 403-6 Promotion of worker health Adobe Benefits\\n1 FY2020–2021 historical metrics have been updated to reflect our ongoing methodology. We implemented a new data platform in July 2022, which impacted some of the historical metrics by <1%. Percentages may not add up to 100 due to employees who have not self-identified their \\ngender and/or race and ethnicity data, and also due to rounding. In FY2022, <1% of our global employees did not disclose gender data and 5.2% of our U.S. employees did not disclose race and ethnicity data.      \\n2 The satisfaction metric is based on ratings from an employee survey for the statement “ I would recommend Adobe as a great place to work.”Social',\n",
       "  'Key ESG  \\nPerformance Indicators39\\n2022 Adobe Corporate Social Responsibility Report\\nREFERENCE INDICES KEY PERFORMANCE INDICATOR 2022 2021 2020\\nHuman capital management\\nGRI 403-7 Prevention and mitigation of occupational health and safetyFor health and safety concerns employees can email safety@adobe.com  or contact the Global Security  \\nOperations Center 24/7 at +1 (408) 536-4444 (ext. 6-4444); +1 (800) 866-8006; +1 (408) 536-4443  \\n(international/collect) or email security@adobe.com .\\nGRI 403-9; 403-10 # Injuries and illnesses per 200,000 hours worked .3 0.03 0\\nGRI 416# of incidents of non-compliance (health & safety of products,  \\nincidents resulting in a fine or penalty, incidents resulting in a warning)0 0 0\\nGRI 102-17Adobe Help Line (confidential means of reporting internal & external concerns,  \\nescalation, whistleblowing mechanisms, and hotline)Adobe Help Line: Employees can call 6-HELP and email ERC@adobe.com, and internal and external stake -\\nholders can email the Compliance Office at integrity@adobe.com or call +1 (800) 300-1026. \\nEnabling inclusive opportunity\\nGRI 203-2 Digital inclusion initiatives Adobe education initiatives\\nDiverse Voices\\nScholarships, grants and career development opportunities Adobe Creativity Scholarships\\nAdobe Digital Academy \\nDiversity, equity and inclusion Adobe Diversity and Inclusion\\nOpportunity and pay parity Employee parity\\nDigital literacy Adobe Digital Literacy\\nAccess for disabled persons Adobe Accessibility\\nAccessibility standard used by Adobe WCAG 2.1 AA\\nReadability Adobe Readability \\nInclusive design Inclusive Design  Social',\n",
       "  'Key ESG  \\nPerformance Indicators40\\n2022 Adobe Corporate Social Responsibility Report\\nREFERENCE INDICES KEY PERFORMANCE INDICATOR 2022 2021 2020\\nCommunity engagement1\\nGRI 413-1Operations with local community engagement, impact assessments,  \\nand development programsAdobe Nonprofit Resource Guide\\nGRI 201-1 Total community investment (cash & in-kind) $113.8M $95.5M $86.9M\\nCompany match of employee financial contributions and volunteer hours $16,687,961 $15,525,005 $15,682,913\\nProduct donation (FMV) $63.5M $46.6M $54.6M\\nValue of talent contributions through pro bono projects $413,550 $1,414,350 $1,968,000\\nEmployee participation percentage 70% 69% 70%\\nNumber of hours volunteered 150,239 127,865 116,391\\nOrganizations served 89,110 67,715 71,409\\n1 All data for community engagement represents efforts over the calendar year.Social',\n",
       "  'Key ESG  \\nPerformance Indicators41\\n2022 Adobe Corporate Social Responsibility Report\\nREFERENCE INDICES KEY PERFORMANCE INDICATOR 2022 2021 2020\\nClimate change & GHG emissions\\nCDP Score A A- A\\nGRI 305-1 Scope 1 GHG emissions [tonnes CO2e] 6,568 4,911 9,598\\nScope 1 GHG emissions from combustion of natural gas and diesel [tonnes CO2e] 4,815 3,469 7,534\\nGRI 305-6 Scope 1 GHG emissions from ozone-depleting substances [tonnes CO2e] 427 299 1,191\\nScope 1 GHG emissions from mobile sources [tonnes CO2e] 1,326 1,143 873\\nGRI 102-56 Verification status of reported Scope 1 emissions Third party verified Third party verified Third party verified \\nGRI 305-2 Scope 2 GHG emissions, location-based [tonnes CO2e] 57,168 61,220 50,653\\nScope 2 GHG emissions, market-based [tonnes CO2e] 22,936 31,341 33,535\\nGRI 102-56       Verification status of reported Scope 2 emissions Third party verified Third party verified Third party verified\\nGRI 305-3 Scope 3 GHG emissions [tonnes CO2e] 463,438 424,343 393,465\\nCategory 1 GHG emissions, purchased goods & services [tonnes CO2e] 405,645 396,221 325,392\\nCategory 2 GHG emissions, capital goods [tonnes CO2e] 26,084 18,340 28,812\\nCategory 3 GHG emissions, FERA [tonnes CO2e] 6,227 7,323 12,692\\nCategory 4 GHG emissions, upstream transportation & distribution [tonnes CO2e] 66 6 682\\nCategory 6 GHG emissions, business travel [tonnes CO2e] 19,704 1,187 11,978\\nCategory 7 GHG emissions, employee commuting [tonnes CO2e] 5,711 1,267 13,908\\nGRI 102-56 Verification status of reported Scope 3 emissions Third party verified Third party verified Third party verified\\nGRI 305-5 Emissions reductions from energy efficiency projects [tonnes CO2e] 95 416 195\\nGRI 305-4 Normalized carbon intensity [tonnes CO2e (Scope 1+2 market-based)/FTE] 1.0 1.4 1.9\\nGRI 305-7 Nitrogen oxides (NOX), sulfur oxides (SOX), and other significant air emissions 0 0 0Environmental',\n",
       "  'Key ESG  \\nPerformance Indicators42\\n2022 Adobe Corporate Social Responsibility Report Environmental\\nREFERENCE INDICES KEY PERFORMANCE INDICATOR 2022 2021 2020\\nRenewables and energy efficiency\\nGRI 302-1 Total energy consumption [MWh] 206,486 240,344 208,187\\nSASB TC-SI-130a.1 Total energy consumption [GJ]1743,349 865,238 749,473\\nSASB TC-SI-130a.1 % of total energy consumption that is grid electricity 88% 92% 78%\\nSASB TC-SI-130a.1 % of total energy consumption that is renewable energy 54% 55% 38%\\n% of total energy consumption that is renewable electricity 62% 59% 48%\\nGlobal grid electricity purchased and consumed [MWh] 180,820 221,568 162,417\\n% electricity purchased and consumed from managed colocated data centers 25% 44% 28%\\nGlobal fuel purchased and consumed (natural gas and diesel/gas oil) [MWh} 31,598 23,405 45,770\\nGRI 302-3 Energy intensity [MWh/FTE] 7.1 9.3 9.2\\nG4-EN6 Renewable energy goal established 100% renewable electricity by 2025 100% renewable electricity by 2035 100% renewable electricity by 2035\\nSustainable workplaces & practices\\nTotal space worldwide (Sq. Ft.) 4,614,038 4,648,814 4,622,486\\n% LEED/green-certified buildings [owned and leased] 85% 81% 77%\\n% employees in LEED/green-certified workspaces 61% 66% 68%\\n% of total owned and managed 56% 53% 54%\\n% of total leased 44% 47% 46%\\n% of total in U.S. 62% 63% 63%\\n% of total in India 22% 21% 21%\\n% of total in rest of world 17% 16% 16%\\nAdobe workspace total energy use (does not include managed Colo energy) [MWh] 95,720 78,661 100,995\\nGRI 302-3 Energy use intensity of Adobe workspaces (kWh/Square Foot) 20.7 16.9 21.9\\n1 Our largest colocated data center provider changed their reporting methodology for electricity consumption in FY2022. The provider transitioned from an estimate-based approach to metered consumption.',\n",
       "  'Key ESG  \\nPerformance Indicators43\\n2022 Adobe Corporate Social Responsibility Report Environmental\\nREFERENCE INDICES KEY PERFORMANCE INDICATOR 2022 2021 2020\\nData Centers\\nScope 2 location-based GHG emissions from Adobe owned data center in Hillsboro,  \\nOR [metric tonnes CO2e]18,651 17,601 17,015\\nScope 2 market-based GHG emissions from Adobe owned data center in Hillsboro,  \\nOR [metric tonnes CO2e]10,920 16,838 17,059\\nElectricity purchased and consumed from Adobe owned data center in Hillsboro, OR [MWh] 64,395 64,266 58,305\\nScope 2 location-based GHG emissions from colocated data centers [metric tonnes CO2e] 12,718 23,415 13,763\\nScope 2 market-based GHG emissions from managed colocated data centers [  \\nmetric tonnes CO2e]5,903 5,642 3,903\\nElectricity purchased and consumed from colocated data centers [MWh] 45,766 97,495 45,100\\nSASB TC-SI-130a.3Description of integration of environmental considerations to strategic planning for data  \\ncenter needsData Center Management\\nSustainable supply chain\\nSupply chain standards Business Partner Code of Conduct\\nWater use & management\\nGRI 303-1, SASB TC-SI-130a.2 Total water consumption - U.S. & India owned and/or managed facilities [Cubic Meters] 282,744 210,464 260,154\\nSASB TC-SI-130a.2 % of water recycled 6% 3% 4%\\nSASB TC-SI-130a.2 % of water in regions with high or extremely high baseline water stress33%;  \\nHigh Risk is 27%,  \\nExtremely High Risk is 6%15%;  \\nHigh Risk is 13%,  \\nExtremely High Risk is 2%17%;  \\nHigh Risk is 13%,  \\nExtremely High Risk is 4%',\n",
       "  'Key ESG  \\nPerformance Indicators44\\n2022 Adobe Corporate Social Responsibility Report Environmental\\nREFERENCE INDICES KEY PERFORMANCE INDICATOR 2022 2021 2020\\nWaste management\\nGRI-306-1 Waste generation and significant waste-related impactsAs Adobe produces digital products that do not contribute to the physical waste stream, waste metrics \\nreported here represent our operational waste from Adobe-owned buildings and buildings where we  \\nhold a long-term lease. \\nGRI 306-2 Waste diverted from global owned and/or managed facilities [short tons] 1,761 1,082 1,711\\nGRI 306-2 Waste Diversion Rate (% of total) 88% 91% 89%\\nGRI 306-3 Total waste generated (metric tons) 1,992 1,189 803\\nTotal waste diverted (metric tons) 1,761 1,082 711\\nTotal waste recycled (metric tons) 864 566 258\\nTotal waste composted (metric tons) 896 517 453\\nTotal waste landfilled (metric tons) 231 106 92\\nEnvironmental fines, penalties and settlements\\nGRI 307-1 Environmental fines, penalties and settlements $0 $0 $0 ',\n",
       "  'Create change.  \\nOur mission — to Change the World Through Digital Experiences —  \\nis relevant both in the midst of crisis and in the best of times.  \\nWe remain committed to using the power of creativity to change the \\nworld — by championing our employees, empowering every voice, \\nlifting our communities, and building a sustainable future. \\nadobe.co m/createchange\\nDesigned by Studio Rainwater'],\n",
       " [{'title': '../data/Adobe-CSR-Report-2022.pdf page 1'},\n",
       "  {'title': '../data/Adobe-CSR-Report-2022.pdf page 2'},\n",
       "  {'title': '../data/Adobe-CSR-Report-2022.pdf page 3'},\n",
       "  {'title': '../data/Adobe-CSR-Report-2022.pdf page 4'},\n",
       "  {'title': '../data/Adobe-CSR-Report-2022.pdf page 5'},\n",
       "  {'title': '../data/Adobe-CSR-Report-2022.pdf page 6'},\n",
       "  {'title': '../data/Adobe-CSR-Report-2022.pdf page 7'},\n",
       "  {'title': '../data/Adobe-CSR-Report-2022.pdf page 8'},\n",
       "  {'title': '../data/Adobe-CSR-Report-2022.pdf page 9'},\n",
       "  {'title': '../data/Adobe-CSR-Report-2022.pdf page 10'},\n",
       "  {'title': '../data/Adobe-CSR-Report-2022.pdf page 11'},\n",
       "  {'title': '../data/Adobe-CSR-Report-2022.pdf page 12'},\n",
       "  {'title': '../data/Adobe-CSR-Report-2022.pdf page 13'},\n",
       "  {'title': '../data/Adobe-CSR-Report-2022.pdf page 14'},\n",
       "  {'title': '../data/Adobe-CSR-Report-2022.pdf page 15'},\n",
       "  {'title': '../data/Adobe-CSR-Report-2022.pdf page 16'},\n",
       "  {'title': '../data/Adobe-CSR-Report-2022.pdf page 17'},\n",
       "  {'title': '../data/Adobe-CSR-Report-2022.pdf page 18'},\n",
       "  {'title': '../data/Adobe-CSR-Report-2022.pdf page 19'},\n",
       "  {'title': '../data/Adobe-CSR-Report-2022.pdf page 20'},\n",
       "  {'title': '../data/Adobe-CSR-Report-2022.pdf page 21'},\n",
       "  {'title': '../data/Adobe-CSR-Report-2022.pdf page 22'},\n",
       "  {'title': '../data/Adobe-CSR-Report-2022.pdf page 23'},\n",
       "  {'title': '../data/Adobe-CSR-Report-2022.pdf page 24'},\n",
       "  {'title': '../data/Adobe-CSR-Report-2022.pdf page 25'},\n",
       "  {'title': '../data/Adobe-CSR-Report-2022.pdf page 26'},\n",
       "  {'title': '../data/Adobe-CSR-Report-2022.pdf page 27'},\n",
       "  {'title': '../data/Adobe-CSR-Report-2022.pdf page 28'},\n",
       "  {'title': '../data/Adobe-CSR-Report-2022.pdf page 29'},\n",
       "  {'title': '../data/Adobe-CSR-Report-2022.pdf page 30'},\n",
       "  {'title': '../data/Adobe-CSR-Report-2022.pdf page 31'},\n",
       "  {'title': '../data/Adobe-CSR-Report-2022.pdf page 32'},\n",
       "  {'title': '../data/Adobe-CSR-Report-2022.pdf page 33'},\n",
       "  {'title': '../data/Adobe-CSR-Report-2022.pdf page 34'},\n",
       "  {'title': '../data/Adobe-CSR-Report-2022.pdf page 35'},\n",
       "  {'title': '../data/Adobe-CSR-Report-2022.pdf page 36'},\n",
       "  {'title': '../data/Adobe-CSR-Report-2022.pdf page 37'},\n",
       "  {'title': '../data/Adobe-CSR-Report-2022.pdf page 38'},\n",
       "  {'title': '../data/Adobe-CSR-Report-2022.pdf page 39'},\n",
       "  {'title': '../data/Adobe-CSR-Report-2022.pdf page 40'},\n",
       "  {'title': '../data/Adobe-CSR-Report-2022.pdf page 41'},\n",
       "  {'title': '../data/Adobe-CSR-Report-2022.pdf page 42'},\n",
       "  {'title': '../data/Adobe-CSR-Report-2022.pdf page 43'},\n",
       "  {'title': '../data/Adobe-CSR-Report-2022.pdf page 44'},\n",
       "  {'title': '../data/Adobe-CSR-Report-2022.pdf page 45'}])"
      ]
     },
     "execution_count": 58,
     "metadata": {},
     "output_type": "execute_result"
    }
   ],
   "source": [
    "prepare_docs(pdf_docs=\"../data/Adobe-CSR-Report-2022.pdf\")"
   ]
  },
  {
   "cell_type": "code",
   "execution_count": null,
   "metadata": {},
   "outputs": [],
   "source": []
  }
 ],
 "metadata": {
  "kernelspec": {
   "display_name": "Python 3",
   "language": "python",
   "name": "python3"
  },
  "language_info": {
   "codemirror_mode": {
    "name": "ipython",
    "version": 3
   },
   "file_extension": ".py",
   "mimetype": "text/x-python",
   "name": "python",
   "nbconvert_exporter": "python",
   "pygments_lexer": "ipython3",
   "version": "3.10.11"
  }
 },
 "nbformat": 4,
 "nbformat_minor": 2
}
